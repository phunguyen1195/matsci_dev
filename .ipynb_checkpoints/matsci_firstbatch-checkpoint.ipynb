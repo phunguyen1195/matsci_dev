{
 "cells": [
  {
   "cell_type": "code",
   "execution_count": 45,
   "metadata": {},
   "outputs": [],
   "source": [
    "from pymatgen import Structure\n",
    "from pymatgen.analysis.structure_analyzer import OxideType\n",
    "from pymatgen.analysis.structure_analyzer import oxide_type\n",
    "from pymatgen.analysis.structure_analyzer import VoronoiAnalyzer\n",
    "from pymatgen.analysis.structure_analyzer import VoronoiConnectivity\n",
    "from pymatgen.analysis.structure_analyzer import average_coordination_number\n",
    "from pymatgen.analysis.structure_analyzer import contains_peroxide\n",
    "from pymatgen.analysis.structure_analyzer import get_dimensionality\n",
    "from pymatgen.analysis.structure_analyzer import get_max_bond_lengths\n",
    "from pymatgen.analysis.structure_analyzer import sulfide_type\n",
    "# from pymatgen.alchemy.filters import AbstractStructureFilter\n",
    "from pymatgen.analysis.diffraction.core import DiffractionPatternCalculator\n",
    "from pymatgen.analysis.diffraction.neutron import NDCalculator\n",
    "from pymatgen.analysis.diffraction.xrd import XRDCalculator\n",
    "from pymatgen.symmetry.structure import SymmetrizedStructure\n",
    "from pymatgen.alchemy.materials import TransformedStructure\n",
    "from pymatgen.analysis.defects.core import Defect\n",
    "from pymatgen.analysis.defects.core import Vacancy\n",
    "from pymatgen.symmetry.analyzer import SpacegroupAnalyzer\n",
    "from pymatgen.analysis.magnetism.analyzer import CollinearMagneticStructureAnalyzer\n",
    "from pymatgen.analysis.chemenv.coordination_environments.coordination_geometry_finder import LocalGeometryFinder\n",
    "import logging\n",
    "from pymatgen.ext.matproj import MPRester\n",
    "from pymatgen.analysis.chemenv.coordination_environments.chemenv_strategies import SimplestChemenvStrategy, MultiWeightsChemenvStrategy\n",
    "from pymatgen.analysis.chemenv.coordination_environments.structure_environments import LightStructureEnvironments\n",
    "import glob\n",
    "import os\n",
    "import pandas as pd\n",
    "import numpy as np\n",
    "import matplotlib"
   ]
  },
  {
   "cell_type": "code",
   "execution_count": 4,
   "metadata": {},
   "outputs": [],
   "source": [
    "def read_cifformat_file (directory):\n",
    "    database_dict = {}\n",
    "    lststructure = []\n",
    "    lstnamefile = []\n",
    "    for filepath in glob.iglob(directory + '*.cif'):\n",
    "        try:\n",
    "            structure = Structure.from_file(filepath)\n",
    "            lststructure.append(structure)\n",
    "            lstnamefile.append(filepath)\n",
    "        except:\n",
    "            print (filepath)\n",
    "            continue\n",
    "    database_dict= {\"namefile\":lstnamefile, \"structure\":lststructure}\n",
    "    return database_dict"
   ]
  },
  {
   "cell_type": "code",
   "execution_count": 4,
   "metadata": {},
   "outputs": [],
   "source": [
    "def getMultiWeightsChemenvStrategy (struct):\n",
    "        # Setup the local geometry finder\n",
    "    lgf = LocalGeometryFinder()\n",
    "    lgf.setup_parameters(centering_type='centroid', include_central_site_in_centroid=True)\n",
    "\n",
    "    #you can also save the logging to a file, just remove the comment\n",
    "\n",
    "#     logging.basicConfig(#filename='chemenv_structure_environments.log',\n",
    "#                         format='%(levelname)s:%(module)s:%(funcName)s:%(message)s',\n",
    "#                         level=logging.DEBUG)\n",
    "    lgf.setup_structure(structure=struct)\n",
    "    se = lgf.compute_structure_environments(maximum_distance_factor=1.41,only_cations=False)\n",
    "    strategy = MultiWeightsChemenvStrategy.stats_article_weights_parameters()\n",
    "    lse = LightStructureEnvironments.from_structure_environments(strategy=strategy, structure_environments=se)\n",
    "    return lse.coordination_environments"
   ]
  },
  {
   "cell_type": "code",
   "execution_count": 5,
   "metadata": {},
   "outputs": [],
   "source": [
    "def getSimplestChemenvStrategy (struct):\n",
    "        # Setup the local geometry finder\n",
    "    lgf = LocalGeometryFinder()\n",
    "    lgf.setup_parameters(centering_type='centroid', include_central_site_in_centroid=True)\n",
    "\n",
    "    #you can also save the logging to a file, just remove the comment\n",
    "\n",
    "#     logging.basicConfig(#filename='chemenv_structure_environments.log',\n",
    "#                         format='%(levelname)s:%(module)s:%(funcName)s:%(message)s',\n",
    "#                         level=logging.DEBUG)\n",
    "    lgf.setup_structure(structure=struct)\n",
    "    se = lgf.compute_structure_environments(maximum_distance_factor=1.41,only_cations=False)\n",
    "    strategy = SimplestChemenvStrategy(distance_cutoff=1.4, angle_cutoff=0.3)\n",
    "    lse = LightStructureEnvironments.from_structure_environments(strategy=strategy, structure_environments=se)\n",
    "    return lse.coordination_environments"
   ]
  },
  {
   "cell_type": "code",
   "execution_count": 6,
   "metadata": {},
   "outputs": [],
   "source": [
    "def list_getSimplestChemenvStrategy (list_struc):\n",
    "    get_list = []\n",
    "    for structure in list_struc:\n",
    "        try:\n",
    "            get_list.append(getSimplestChemenvStrategy (structure))\n",
    "        except:\n",
    "            get_list.append(\"N/A\")\n",
    "            continue\n",
    "    return get_list"
   ]
  },
  {
   "cell_type": "code",
   "execution_count": 7,
   "metadata": {},
   "outputs": [],
   "source": [
    "def list_getMultiWeightsChemenvStrategy (list_struc):\n",
    "    get_list = []\n",
    "    for structure in list_struc:\n",
    "        try:\n",
    "            get_list.append(getMultiWeightsChemenvStrategy (structure))\n",
    "        except:\n",
    "            get_list.append(\"N/A\")\n",
    "            continue\n",
    "    return get_list"
   ]
  },
  {
   "cell_type": "code",
   "execution_count": 8,
   "metadata": {},
   "outputs": [],
   "source": [
    "def list_oxide_type (list_struc):\n",
    "    return [ oxide_type(structure, relative_cutoff=1.2, return_nbonds=True) for structure in list_struc]\n",
    "    "
   ]
  },
  {
   "cell_type": "code",
   "execution_count": 9,
   "metadata": {},
   "outputs": [],
   "source": [
    "def list_number_of_facets_with_i_vertices (list_struc):\n",
    "    return [ VoronoiAnalyzer().analyze(structure, n=0) for structure in list_struc]\n",
    "    "
   ]
  },
  {
   "cell_type": "code",
   "execution_count": 10,
   "metadata": {},
   "outputs": [],
   "source": [
    "def list_the_solid_angle_of_polygon_between_atomi_and_imagej_of_atomj (list_struc):\n",
    "    return [ VoronoiConnectivity(structure,cutoff=10).connectivity_array for structure in list_struc]"
   ]
  },
  {
   "cell_type": "code",
   "execution_count": 11,
   "metadata": {},
   "outputs": [],
   "source": [
    "def list_Voronoi_Neighbors (list_struc):\n",
    "    return [VoronoiConnectivity(structure,cutoff=10).get_connections() for structure in list_struc]"
   ]
  },
  {
   "cell_type": "code",
   "execution_count": 12,
   "metadata": {},
   "outputs": [],
   "source": [
    "def list_maximum_connectivity (list_struc):\n",
    "    return [VoronoiConnectivity(structure,cutoff=10).max_connectivity for structure in list_struc]"
   ]
  },
  {
   "cell_type": "code",
   "execution_count": 13,
   "metadata": {},
   "outputs": [],
   "source": [
    "def list_contains_peroxide (list_struc):\n",
    "    return [contains_peroxide(structure, relative_cutoff=1.1) for structure in list_struc]"
   ]
  },
  {
   "cell_type": "code",
   "execution_count": 14,
   "metadata": {},
   "outputs": [],
   "source": [
    "def list_dimensionality (list_struc):\n",
    "    get_list = []\n",
    "    for structure in list_struc:\n",
    "        print(structure.formula)\n",
    "        try:\n",
    "            get_list.append(get_dimensionality(structure, max_hkl=2, el_radius_updates=None, min_slab_size=5, min_vacuum_size=5, standardize=True, bonds=None))\n",
    "        except:\n",
    "            get_list.append(\"N/A\")\n",
    "            continue\n",
    "    return get_list"
   ]
  },
  {
   "cell_type": "code",
   "execution_count": 15,
   "metadata": {},
   "outputs": [],
   "source": [
    "def list_maximum_bond_length (list_struc):\n",
    "    return [get_max_bond_lengths(structure, el_radius_updates=None) for structure in list_struc]"
   ]
  },
  {
   "cell_type": "code",
   "execution_count": 16,
   "metadata": {},
   "outputs": [],
   "source": [
    "def list_sulfide_type (list_struc):\n",
    "    get_list = []\n",
    "    for structure in list_struc:\n",
    "        try:\n",
    "            get_list.append(sulfide_type(structure))\n",
    "        except:\n",
    "            get_list.append(\"N/A\")\n",
    "            continue\n",
    "    return get_list"
   ]
  },
  {
   "cell_type": "code",
   "execution_count": 6,
   "metadata": {},
   "outputs": [],
   "source": [
    "def list_formula (list_struc):\n",
    "    return [structure.formula for structure in list_struc]"
   ]
  },
  {
   "cell_type": "code",
   "execution_count": 40,
   "metadata": {},
   "outputs": [],
   "source": [
    "def list_volume (list_struc):\n",
    "    return [structure.volume for structure in list_struc]"
   ]
  },
  {
   "cell_type": "code",
   "execution_count": 35,
   "metadata": {},
   "outputs": [],
   "source": [
    "def list_density (list_struc):\n",
    "    return [structure.density for structure in list_struc]"
   ]
  },
  {
   "cell_type": "code",
   "execution_count": 49,
   "metadata": {},
   "outputs": [],
   "source": [
    "def list_a (list_struc):\n",
    "    return [structure.lattice.a for structure in list_struc]"
   ]
  },
  {
   "cell_type": "code",
   "execution_count": 50,
   "metadata": {},
   "outputs": [],
   "source": [
    "def list_b (list_struc):\n",
    "    return [structure.lattice.b for structure in list_struc]"
   ]
  },
  {
   "cell_type": "code",
   "execution_count": 51,
   "metadata": {},
   "outputs": [],
   "source": [
    "def list_c (list_struc):\n",
    "    return [structure.lattice.c for structure in list_struc]"
   ]
  },
  {
   "cell_type": "code",
   "execution_count": 52,
   "metadata": {},
   "outputs": [],
   "source": [
    "def list_alpha (list_struc):\n",
    "    return [structure.lattice.alpha for structure in list_struc]"
   ]
  },
  {
   "cell_type": "code",
   "execution_count": 53,
   "metadata": {},
   "outputs": [],
   "source": [
    "def list_beta (list_struc):\n",
    "    return [structure.lattice.beta for structure in list_struc]"
   ]
  },
  {
   "cell_type": "code",
   "execution_count": 54,
   "metadata": {},
   "outputs": [],
   "source": [
    "def list_gamma (list_struc):\n",
    "    return [structure.lattice.gamma for structure in list_struc]"
   ]
  },
  {
   "cell_type": "code",
   "execution_count": 45,
   "metadata": {},
   "outputs": [],
   "source": [
    "def list_angles (list_struc):\n",
    "    return [structure.lattice.angles for structure in list_struc]"
   ]
  },
  {
   "cell_type": "code",
   "execution_count": 5,
   "metadata": {},
   "outputs": [],
   "source": [
    "def list_get_crystal_system (list_struc):\n",
    "    return [SpacegroupAnalyzer(structure).get_crystal_system() for structure in list_struc]"
   ]
  },
  {
   "cell_type": "code",
   "execution_count": 13,
   "metadata": {},
   "outputs": [],
   "source": [
    "def list_get_hall (list_struc):\n",
    "    return [SpacegroupAnalyzer(structure).get_hall() for structure in list_struc]"
   ]
  },
  {
   "cell_type": "code",
   "execution_count": 17,
   "metadata": {},
   "outputs": [],
   "source": [
    "def list_get_ir_reciprocal_mesh (list_struc):\n",
    "    return [SpacegroupAnalyzer(structure).get_ir_reciprocal_mesh() for structure in list_struc]"
   ]
  },
  {
   "cell_type": "code",
   "execution_count": 21,
   "metadata": {},
   "outputs": [],
   "source": [
    "def list_get_lattice_type (list_struc):\n",
    "    return [SpacegroupAnalyzer(structure).get_lattice_type() for structure in list_struc]"
   ]
  },
  {
   "cell_type": "code",
   "execution_count": 25,
   "metadata": {},
   "outputs": [],
   "source": [
    "def list_get_space_group_number (list_struc):\n",
    "    return [SpacegroupAnalyzer(structure).get_space_group_number() for structure in list_struc]"
   ]
  },
  {
   "cell_type": "code",
   "execution_count": 85,
   "metadata": {},
   "outputs": [],
   "source": [
    "def list_number_of_magnetic_sites (list_struc):\n",
    "    return [CollinearMagneticStructureAnalyzer(structure).number_of_magnetic_sites for structure in list_struc]"
   ]
  },
  {
   "cell_type": "code",
   "execution_count": 92,
   "metadata": {},
   "outputs": [],
   "source": [
    "def list_number_of_unique_magnetic_sites (list_struc):\n",
    "    return [CollinearMagneticStructureAnalyzer(structure).number_of_unique_magnetic_sites() for structure in list_struc]"
   ]
  },
  {
   "cell_type": "code",
   "execution_count": 100,
   "metadata": {},
   "outputs": [],
   "source": [
    "def list_types_of_magnetic_specie (list_struc):\n",
    "    return [CollinearMagneticStructureAnalyzer(structure).types_of_magnetic_specie for structure in list_struc]"
   ]
  },
  {
   "cell_type": "code",
   "execution_count": 103,
   "metadata": {},
   "outputs": [],
   "source": [
    "def list_magmoms (list_struc):\n",
    "    return [CollinearMagneticStructureAnalyzer(structure).magmoms for structure in list_struc]"
   ]
  },
  {
   "cell_type": "code",
   "execution_count": 109,
   "metadata": {},
   "outputs": [],
   "source": [
    "def list_ordering (list_struc):\n",
    "    return [CollinearMagneticStructureAnalyzer(structure).ordering for structure in list_struc]"
   ]
  },
  {
   "cell_type": "code",
   "execution_count": 21,
   "metadata": {},
   "outputs": [],
   "source": [
    "def list_get_pattern (list_struc):\n",
    "    ls = []\n",
    "    for structure in list_struc:\n",
    "        i = NDCalculator()\n",
    "        ls.append(i.get_pattern(structure))\n",
    "    return ls"
   ]
  },
  {
   "cell_type": "code",
   "execution_count": 17,
   "metadata": {},
   "outputs": [],
   "source": [
    "def list_TransformedStructure (list_struc):\n",
    "    return [TransformedStructure(structure) for structure in list_struc]"
   ]
  },
  {
   "cell_type": "code",
   "execution_count": 29,
   "metadata": {},
   "outputs": [],
   "source": [
    "def list_get_pattern_xrd (list_struc):\n",
    "    ls = []\n",
    "    for structure in list_struc:\n",
    "        i = XRDCalculator()\n",
    "        ls.append(i.get_pattern(structure))\n",
    "    return ls"
   ]
  },
  {
   "cell_type": "code",
   "execution_count": 10,
   "metadata": {},
   "outputs": [],
   "source": [
    "def list_Defect (list_struc):\n",
    "    ls = []\n",
    "    for structure in list_struc:\n",
    "        i = Vacancy(structure)\n",
    "        ls.append(i.bulk_structure)\n",
    "    return ls\n",
    "#need defect sites"
   ]
  },
  {
   "cell_type": "code",
   "execution_count": 30,
   "metadata": {},
   "outputs": [],
   "source": [
    "def get_dataframe_from_cifdir (directory):\n",
    "    get_struct = read_cifformat_file (directory)\n",
    "    get_lststruct = get_struct[\"structure\"]\n",
    "    get_namefile = get_struct[\"namefile\"]\n",
    "    dict_struct = {}\n",
    "    dict_struct\n",
    "    dict_struct[\"name file\"] = get_namefile\n",
    "    dict_struct[\"formula\"] = list_formula(get_lststruct)\n",
    "#     dict_struct[\"a\"] = list_a(get_lststruct)\n",
    "#     dict_struct[\"b\"] = list_b(get_lststruct)\n",
    "#     dict_struct[\"c\"] = list_c(get_lststruct)\n",
    "#     dict_struct[\"alpha\"] = list_alpha(get_lststruct)\n",
    "#     dict_struct[\"beta\"] = list_beta(get_lststruct)\n",
    "#     dict_struct[\"gamma\"] = list_gamma(get_lststruct)\n",
    "#     dict_struct[\"angles\"] = list_angles(get_lststruct)\n",
    "#     dict_struct[\"volume\"] = list_volume(get_lststruct)\n",
    "#     dict_struct[\"density\"] = list_density(get_lststruct)\n",
    "#     dict_struct[\"oxide type\"] = list_oxide_type(get_lststruct)\n",
    "#     dict_struct[\"number of facets with i vertices\"] = list_number_of_facets_with_i_vertices (get_lststruct)\n",
    "#     dict_struct[\"the solid angle of polygon between atomi and imagej of atomj\"] = list_the_solid_angle_of_polygon_between_atomi_and_imagej_of_atomj (get_lststruct)\n",
    "#     dict_struct[\"Voronoi Neighbors\"] = list_Voronoi_Neighbors (get_lststruct)\n",
    "#     dict_struct[\"maximum connectivity\"] = list_maximum_connectivity (get_lststruct)\n",
    "#     dict_struct[\"contains peroxide\"] = list_contains_peroxide (get_lststruct)\n",
    "#     #checking\n",
    "#     dict_struct[\"dimensionality\"] = list_dimensionality (get_lststruct)\n",
    "#     dict_struct[\"maximum bond length\"] = list_maximum_bond_length (get_lststruct)\n",
    "#     dict_struct[\"sulfide type\"] = list_sulfide_type (get_lststruct)\n",
    "#     dict_struct[\"MultiWeights Chemenv Strategy\"] = list_getMultiWeightsChemenvStrategy (get_lststruct)\n",
    "#     dict_struct[\"Simplest Chemenv Strategy\"] = list_getSimplestChemenvStrategy (get_lststruct)\n",
    "#     dict_struct[\"Crystal System\"] = list_get_crystal_system(get_lststruct)\n",
    "#     dict_struct[\"Hall\"] = list_get_hall(get_lststruct)\n",
    "#     dict_struct[\"ir reciprocal mesh\"] = list_get_ir_reciprocal_mesh(get_lststruct)\n",
    "#     dict_struct[\"lattice type\"] = list_get_lattice_type(get_lststruct)\n",
    "#     dict_struct[\"space group number\"] = list_get_space_group_number(get_lststruct)\n",
    "#     dict_struct[\"number of magnetic sites\"] = list_number_of_magnetic_sites(get_lststruct)\n",
    "#     dict_struct[\"number of unique magnetic sites\"] = list_number_of_unique_magnetic_sites(get_lststruct)\n",
    "#     dict_struct[\"types of magnetic specie\"] = list_types_of_magnetic_specie(get_lststruct)\n",
    "#     dict_struct[\"magmoms\"] = list_magmoms(get_lststruct)\n",
    "#     dict_struct[\"ordering\"] = list_ordering(get_lststruct)\n",
    "#     dict_struct[\"diffraction pattern\"] = list_get_pattern(get_lststruct)\n",
    "    dict_struct[\"AbstractStructureFilter\"] = list_TransformedStructure(get_lststruct)\n",
    "    dict_struct[\"diffraction pattern\"] = list_get_pattern(get_lststruct)\n",
    "    dict_struct[\"diffraction pattern xrd\"] = list_get_pattern_xrd(get_lststruct)\n",
    "#     dick_struct[\"Defect\"] = list_Defect(get_lststruct)\n",
    "    df = pd.DataFrame.from_dict(dict_struct)\n",
    "    \n",
    "    \n",
    "    return df"
   ]
  }
 ],
 "metadata": {
  "kernelspec": {
   "display_name": "Python (matsci)",
   "language": "python",
   "name": "matsci"
  },
  "language_info": {
   "codemirror_mode": {
    "name": "ipython",
    "version": 3
   },
   "file_extension": ".py",
   "mimetype": "text/x-python",
   "name": "python",
   "nbconvert_exporter": "python",
   "pygments_lexer": "ipython3",
   "version": "3.7.3"
  }
 },
 "nbformat": 4,
 "nbformat_minor": 2
}
