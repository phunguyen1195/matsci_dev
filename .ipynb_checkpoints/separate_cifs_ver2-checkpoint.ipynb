{
 "cells": [
  {
   "cell_type": "code",
   "execution_count": 1,
   "metadata": {},
   "outputs": [],
   "source": [
    "with open(\"/home/phu/Documents/matsci/hexafluorophosphate.cif\") as f:\n",
    "    content = f.readlines()"
   ]
  },
  {
   "cell_type": "code",
   "execution_count": 2,
   "metadata": {},
   "outputs": [],
   "source": [
    "k = []\n",
    "for n in content:\n",
    "    if \"data\" in n:\n",
    "        if n.split(\"_\")[0] == \"data\":\n",
    "            k.append(n)"
   ]
  },
  {
   "cell_type": "code",
   "execution_count": 3,
   "metadata": {},
   "outputs": [
    {
     "data": {
      "text/plain": [
       "21583"
      ]
     },
     "execution_count": 3,
     "metadata": {},
     "output_type": "execute_result"
    }
   ],
   "source": [
    "len(k)"
   ]
  },
  {
   "cell_type": "code",
   "execution_count": 4,
   "metadata": {},
   "outputs": [],
   "source": [
    "q = []\n",
    "for i in range(0, 200):\n",
    "    try:\n",
    "        m = content[content.index(k[i]) : content.index(k[i + 1])]\n",
    "    except:\n",
    "        m = content[content.index(k[i]) :]\n",
    "    q.append(m)"
   ]
  },
  {
   "cell_type": "code",
   "execution_count": null,
   "metadata": {},
   "outputs": [],
   "source": [
    "q"
   ]
  },
  {
   "cell_type": "code",
   "execution_count": null,
   "metadata": {},
   "outputs": [],
   "source": [
    "def save_content_to_list(count, id, out_list):\n",
    "    for i in range(count):\n",
    "        try:\n",
    "            m = content[content.index(k[i]) : content.index(k[i + 1])]\n",
    "            print(m)\n",
    "            print(i)\n",
    "        except:\n",
    "            m = content[content.index(k[i]) :]\n",
    "        out_list.append(m)"
   ]
  },
  {
   "cell_type": "code",
   "execution_count": null,
   "metadata": {},
   "outputs": [],
   "source": [
    "import multiprocessing\n",
    "\n",
    "l = len(k)\n",
    "procs = 5\n",
    "jobs = []\n",
    "\n",
    "for i in range(0, procs):\n",
    "    q = []\n",
    "    process = multiprocessing.Process(target=save_content_to_list, args=(l, i, q))\n",
    "\n",
    "    jobs.append(process)\n",
    "\n",
    "for j in jobs:\n",
    "    j.start()\n",
    "\n",
    "for j in jobs:\n",
    "    j.join()"
   ]
  },
  {
   "cell_type": "code",
   "execution_count": null,
   "metadata": {},
   "outputs": [],
   "source": [
    "len(q)"
   ]
  },
  {
   "cell_type": "code",
   "execution_count": null,
   "metadata": {},
   "outputs": [],
   "source": [
    "y = []\n",
    "for i in q:\n",
    "    for j in i:\n",
    "        if \"_chemical_formula_sum\" in j:\n",
    "            y.append(i)\n",
    "\n",
    "q_set = set(tuple(i) for i in q)\n",
    "y_set = set(tuple(i) for i in y)\n",
    "n_set = q_set - y_set"
   ]
  },
  {
   "cell_type": "code",
   "execution_count": null,
   "metadata": {},
   "outputs": [],
   "source": [
    "len(y)"
   ]
  },
  {
   "cell_type": "code",
   "execution_count": 5,
   "metadata": {},
   "outputs": [],
   "source": [
    "n = []\n",
    "get_s = []\n",
    "count = 0\n",
    "for i in q:\n",
    "    s = \"\"\n",
    "    for j in i:\n",
    "        if \"database_code_depnum_ccdc_archive\" in j:\n",
    "            s = j.split(\"'\")[1].split(\" \")[0] + \"_\" + j.split(\"'\")[1].split(\" \")[1]\n",
    "            # n.append(s)\n",
    "    try:\n",
    "        with open(\n",
    "            \"/home/phu/Documents/matsci/newCIF_hexafluorophosphate/\" + s + \".cif\", \"w+\"\n",
    "        ) as g:\n",
    "            for item in i:\n",
    "                g.write(item)\n",
    "    except Exception as e:\n",
    "        n.append(e)\n",
    "        get_s.append(s)"
   ]
  },
  {
   "cell_type": "code",
   "execution_count": null,
   "metadata": {},
   "outputs": [],
   "source": [
    "for i in q:\n",
    "    s = \"\"\n",
    "    for j in i:\n",
    "        if \"database_code_depnum_ccdc_archive\" in j:\n",
    "            s = j.split(\"'\")[1].split(\" \")[0] + \"_\" + j.split(\"'\")[1].split(\" \")[1]\n",
    "    f = open(cifs_dir_generate + \"/\" + s + \".cif\", \"w+\")\n",
    "    for item in i:\n",
    "        f.write(item)"
   ]
  },
  {
   "cell_type": "code",
   "execution_count": null,
   "metadata": {},
   "outputs": [],
   "source": [
    "count"
   ]
  },
  {
   "cell_type": "code",
   "execution_count": null,
   "metadata": {},
   "outputs": [],
   "source": []
  },
  {
   "cell_type": "code",
   "execution_count": null,
   "metadata": {},
   "outputs": [],
   "source": [
    "len(n)"
   ]
  },
  {
   "cell_type": "code",
   "execution_count": null,
   "metadata": {},
   "outputs": [],
   "source": [
    "import glob\n",
    "\n",
    "from pymatgen import Structure"
   ]
  },
  {
   "cell_type": "code",
   "execution_count": null,
   "metadata": {},
   "outputs": [],
   "source": [
    "def read_cifformat_file(directory):\n",
    "    database_dict = {}\n",
    "    lststructure = []\n",
    "    lstnamefile = []\n",
    "    for filepath in glob.iglob(directory + \"*.cif\"):\n",
    "        try:\n",
    "            structure = Structure.from_file(filepath)\n",
    "            lststructure.append(structure)\n",
    "            lstnamefile.append(filepath)\n",
    "        except:\n",
    "            print(filepath)\n",
    "            continue\n",
    "    database_dict = {\"namefile\": lstnamefile, \"structure\": lststructure}\n",
    "    return database_dict"
   ]
  },
  {
   "cell_type": "code",
   "execution_count": null,
   "metadata": {},
   "outputs": [],
   "source": [
    "df = read_cifformat_file(\"/home/phu/Documents/matsci/4thCif/\")\n",
    "# data_ACIMRU10.cif"
   ]
  },
  {
   "cell_type": "code",
   "execution_count": null,
   "metadata": {},
   "outputs": [],
   "source": [
    "df"
   ]
  }
 ],
 "metadata": {
  "kernelspec": {
   "display_name": "Python matsci",
   "language": "python",
   "name": "matsci"
  },
  "language_info": {
   "codemirror_mode": {
    "name": "ipython",
    "version": 3
   },
   "file_extension": ".py",
   "mimetype": "text/x-python",
   "name": "python",
   "nbconvert_exporter": "python",
   "pygments_lexer": "ipython3",
   "version": "3.6.6"
  }
 },
 "nbformat": 4,
 "nbformat_minor": 2
}
