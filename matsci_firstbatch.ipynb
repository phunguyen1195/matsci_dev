{
 "cells": [
  {
   "cell_type": "code",
   "execution_count": 45,
   "metadata": {},
   "outputs": [],
   "source": [
    "from pymatgen import Structure\n",
    "from pymatgen.analysis.structure_analyzer import OxideType\n",
    "from pymatgen.analysis.structure_analyzer import oxide_type\n",
    "from pymatgen.analysis.structure_analyzer import VoronoiAnalyzer\n",
    "from pymatgen.analysis.structure_analyzer import VoronoiConnectivity\n",
    "from pymatgen.analysis.structure_analyzer import average_coordination_number\n",
    "from pymatgen.analysis.structure_analyzer import contains_peroxide\n",
    "from pymatgen.analysis.structure_analyzer import get_dimensionality\n",
    "from pymatgen.analysis.structure_analyzer import get_max_bond_lengths\n",
    "from pymatgen.analysis.structure_analyzer import sulfide_type\n",
    "# from pymatgen.alchemy.filters import AbstractStructureFilter\n",
    "from pymatgen.analysis.diffraction.core import DiffractionPatternCalculator\n",
    "from pymatgen.analysis.diffraction.neutron import NDCalculator\n",
    "from pymatgen.analysis.diffraction.xrd import XRDCalculator\n",
    "from pymatgen.symmetry.structure import SymmetrizedStructure\n",
    "from pymatgen.alchemy.materials import TransformedStructure\n",
    "from pymatgen.analysis.defects.core import Defect\n",
    "from pymatgen.analysis.defects.core import Vacancy\n",
    "from pymatgen.symmetry.analyzer import SpacegroupAnalyzer\n",
    "from pymatgen.analysis.magnetism.analyzer import CollinearMagneticStructureAnalyzer\n",
    "from pymatgen.analysis.chemenv.coordination_environments.coordination_geometry_finder import LocalGeometryFinder\n",
    "import logging\n",
    "from pymatgen.ext.matproj import MPRester\n",
    "from pymatgen.analysis.chemenv.coordination_environments.chemenv_strategies import SimplestChemenvStrategy, MultiWeightsChemenvStrategy\n",
    "from pymatgen.analysis.chemenv.coordination_environments.structure_environments import LightStructureEnvironments\n",
    "import glob\n",
    "import os\n",
    "import pandas as pd\n",
    "import numpy as np\n",
    "import matplotlib"
   ]
  },
  {
   "cell_type": "code",
   "execution_count": 4,
   "metadata": {},
   "outputs": [],
   "source": [
    "def read_cifformat_file (directory):\n",
    "    database_dict = {}\n",
    "    lststructure = []\n",
    "    lstnamefile = []\n",
    "    for filepath in glob.iglob(directory + '*.cif'):\n",
    "        try:\n",
    "            structure = Structure.from_file(filepath)\n",
    "            lststructure.append(structure)\n",
    "            lstnamefile.append(filepath)\n",
    "        except:\n",
    "            print (filepath)\n",
    "            continue\n",
    "    database_dict= {\"namefile\":lstnamefile, \"structure\":lststructure}\n",
    "    return database_dict"
   ]
  },
  {
   "cell_type": "code",
   "execution_count": 4,
   "metadata": {},
   "outputs": [],
   "source": [
    "def getMultiWeightsChemenvStrategy (struct):\n",
    "        # Setup the local geometry finder\n",
    "    lgf = LocalGeometryFinder()\n",
    "    lgf.setup_parameters(centering_type='centroid', include_central_site_in_centroid=True)\n",
    "\n",
    "    #you can also save the logging to a file, just remove the comment\n",
    "\n",
    "#     logging.basicConfig(#filename='chemenv_structure_environments.log',\n",
    "#                         format='%(levelname)s:%(module)s:%(funcName)s:%(message)s',\n",
    "#                         level=logging.DEBUG)\n",
    "    lgf.setup_structure(structure=struct)\n",
    "    se = lgf.compute_structure_environments(maximum_distance_factor=1.41,only_cations=False)\n",
    "    strategy = MultiWeightsChemenvStrategy.stats_article_weights_parameters()\n",
    "    lse = LightStructureEnvironments.from_structure_environments(strategy=strategy, structure_environments=se)\n",
    "    return lse.coordination_environments"
   ]
  },
  {
   "cell_type": "code",
   "execution_count": 5,
   "metadata": {},
   "outputs": [],
   "source": [
    "def getSimplestChemenvStrategy (struct):\n",
    "        # Setup the local geometry finder\n",
    "    lgf = LocalGeometryFinder()\n",
    "    lgf.setup_parameters(centering_type='centroid', include_central_site_in_centroid=True)\n",
    "\n",
    "    #you can also save the logging to a file, just remove the comment\n",
    "\n",
    "#     logging.basicConfig(#filename='chemenv_structure_environments.log',\n",
    "#                         format='%(levelname)s:%(module)s:%(funcName)s:%(message)s',\n",
    "#                         level=logging.DEBUG)\n",
    "    lgf.setup_structure(structure=struct)\n",
    "    se = lgf.compute_structure_environments(maximum_distance_factor=1.41,only_cations=False)\n",
    "    strategy = SimplestChemenvStrategy(distance_cutoff=1.4, angle_cutoff=0.3)\n",
    "    lse = LightStructureEnvironments.from_structure_environments(strategy=strategy, structure_environments=se)\n",
    "    return lse.coordination_environments"
   ]
  },
  {
   "cell_type": "code",
   "execution_count": 6,
   "metadata": {},
   "outputs": [],
   "source": [
    "def list_getSimplestChemenvStrategy (list_struc):\n",
    "    get_list = []\n",
    "    for structure in list_struc:\n",
    "        try:\n",
    "            get_list.append(getSimplestChemenvStrategy (structure))\n",
    "        except:\n",
    "            get_list.append(\"N/A\")\n",
    "            continue\n",
    "    return get_list"
   ]
  },
  {
   "cell_type": "code",
   "execution_count": 7,
   "metadata": {},
   "outputs": [],
   "source": [
    "def list_getMultiWeightsChemenvStrategy (list_struc):\n",
    "    get_list = []\n",
    "    for structure in list_struc:\n",
    "        try:\n",
    "            get_list.append(getMultiWeightsChemenvStrategy (structure))\n",
    "        except:\n",
    "            get_list.append(\"N/A\")\n",
    "            continue\n",
    "    return get_list"
   ]
  },
  {
   "cell_type": "code",
   "execution_count": 8,
   "metadata": {},
   "outputs": [],
   "source": [
    "def list_oxide_type (list_struc):\n",
    "    return [ oxide_type(structure, relative_cutoff=1.2, return_nbonds=True) for structure in list_struc]\n",
    "    "
   ]
  },
  {
   "cell_type": "code",
   "execution_count": 9,
   "metadata": {},
   "outputs": [],
   "source": [
    "def list_number_of_facets_with_i_vertices (list_struc):\n",
    "    return [ VoronoiAnalyzer().analyze(structure, n=0) for structure in list_struc]\n",
    "    "
   ]
  },
  {
   "cell_type": "code",
   "execution_count": 10,
   "metadata": {},
   "outputs": [],
   "source": [
    "def list_the_solid_angle_of_polygon_between_atomi_and_imagej_of_atomj (list_struc):\n",
    "    return [ VoronoiConnectivity(structure,cutoff=10).connectivity_array for structure in list_struc]"
   ]
  },
  {
   "cell_type": "code",
   "execution_count": 11,
   "metadata": {},
   "outputs": [],
   "source": [
    "def list_Voronoi_Neighbors (list_struc):\n",
    "    return [VoronoiConnectivity(structure,cutoff=10).get_connections() for structure in list_struc]"
   ]
  },
  {
   "cell_type": "code",
   "execution_count": 12,
   "metadata": {},
   "outputs": [],
   "source": [
    "def list_maximum_connectivity (list_struc):\n",
    "    return [VoronoiConnectivity(structure,cutoff=10).max_connectivity for structure in list_struc]"
   ]
  },
  {
   "cell_type": "code",
   "execution_count": 13,
   "metadata": {},
   "outputs": [],
   "source": [
    "def list_contains_peroxide (list_struc):\n",
    "    return [contains_peroxide(structure, relative_cutoff=1.1) for structure in list_struc]"
   ]
  },
  {
   "cell_type": "code",
   "execution_count": 14,
   "metadata": {},
   "outputs": [],
   "source": [
    "def list_dimensionality (list_struc):\n",
    "    get_list = []\n",
    "    for structure in list_struc:\n",
    "        print(structure.formula)\n",
    "        try:\n",
    "            get_list.append(get_dimensionality(structure, max_hkl=2, el_radius_updates=None, min_slab_size=5, min_vacuum_size=5, standardize=True, bonds=None))\n",
    "        except:\n",
    "            get_list.append(\"N/A\")\n",
    "            continue\n",
    "    return get_list"
   ]
  },
  {
   "cell_type": "code",
   "execution_count": 15,
   "metadata": {},
   "outputs": [],
   "source": [
    "def list_maximum_bond_length (list_struc):\n",
    "    return [get_max_bond_lengths(structure, el_radius_updates=None) for structure in list_struc]"
   ]
  },
  {
   "cell_type": "code",
   "execution_count": 16,
   "metadata": {},
   "outputs": [],
   "source": [
    "def list_sulfide_type (list_struc):\n",
    "    get_list = []\n",
    "    for structure in list_struc:\n",
    "        try:\n",
    "            get_list.append(sulfide_type(structure))\n",
    "        except:\n",
    "            get_list.append(\"N/A\")\n",
    "            continue\n",
    "    return get_list"
   ]
  },
  {
   "cell_type": "code",
   "execution_count": 6,
   "metadata": {},
   "outputs": [],
   "source": [
    "def list_formula (list_struc):\n",
    "    return [structure.formula for structure in list_struc]"
   ]
  },
  {
   "cell_type": "code",
   "execution_count": 40,
   "metadata": {},
   "outputs": [],
   "source": [
    "def list_volume (list_struc):\n",
    "    return [structure.volume for structure in list_struc]"
   ]
  },
  {
   "cell_type": "code",
   "execution_count": 35,
   "metadata": {},
   "outputs": [],
   "source": [
    "def list_density (list_struc):\n",
    "    return [structure.density for structure in list_struc]"
   ]
  },
  {
   "cell_type": "code",
   "execution_count": 49,
   "metadata": {},
   "outputs": [],
   "source": [
    "def list_a (list_struc):\n",
    "    return [structure.lattice.a for structure in list_struc]"
   ]
  },
  {
   "cell_type": "code",
   "execution_count": 50,
   "metadata": {},
   "outputs": [],
   "source": [
    "def list_b (list_struc):\n",
    "    return [structure.lattice.b for structure in list_struc]"
   ]
  },
  {
   "cell_type": "code",
   "execution_count": 51,
   "metadata": {},
   "outputs": [],
   "source": [
    "def list_c (list_struc):\n",
    "    return [structure.lattice.c for structure in list_struc]"
   ]
  },
  {
   "cell_type": "code",
   "execution_count": 52,
   "metadata": {},
   "outputs": [],
   "source": [
    "def list_alpha (list_struc):\n",
    "    return [structure.lattice.alpha for structure in list_struc]"
   ]
  },
  {
   "cell_type": "code",
   "execution_count": 53,
   "metadata": {},
   "outputs": [],
   "source": [
    "def list_beta (list_struc):\n",
    "    return [structure.lattice.beta for structure in list_struc]"
   ]
  },
  {
   "cell_type": "code",
   "execution_count": 54,
   "metadata": {},
   "outputs": [],
   "source": [
    "def list_gamma (list_struc):\n",
    "    return [structure.lattice.gamma for structure in list_struc]"
   ]
  },
  {
   "cell_type": "code",
   "execution_count": 45,
   "metadata": {},
   "outputs": [],
   "source": [
    "def list_angles (list_struc):\n",
    "    return [structure.lattice.angles for structure in list_struc]"
   ]
  },
  {
   "cell_type": "code",
   "execution_count": 5,
   "metadata": {},
   "outputs": [],
   "source": [
    "def list_get_crystal_system (list_struc):\n",
    "    return [SpacegroupAnalyzer(structure).get_crystal_system() for structure in list_struc]"
   ]
  },
  {
   "cell_type": "code",
   "execution_count": 13,
   "metadata": {},
   "outputs": [],
   "source": [
    "def list_get_hall (list_struc):\n",
    "    return [SpacegroupAnalyzer(structure).get_hall() for structure in list_struc]"
   ]
  },
  {
   "cell_type": "code",
   "execution_count": 17,
   "metadata": {},
   "outputs": [],
   "source": [
    "def list_get_ir_reciprocal_mesh (list_struc):\n",
    "    return [SpacegroupAnalyzer(structure).get_ir_reciprocal_mesh() for structure in list_struc]"
   ]
  },
  {
   "cell_type": "code",
   "execution_count": 21,
   "metadata": {},
   "outputs": [],
   "source": [
    "def list_get_lattice_type (list_struc):\n",
    "    return [SpacegroupAnalyzer(structure).get_lattice_type() for structure in list_struc]"
   ]
  },
  {
   "cell_type": "code",
   "execution_count": 25,
   "metadata": {},
   "outputs": [],
   "source": [
    "def list_get_space_group_number (list_struc):\n",
    "    return [SpacegroupAnalyzer(structure).get_space_group_number() for structure in list_struc]"
   ]
  },
  {
   "cell_type": "code",
   "execution_count": 85,
   "metadata": {},
   "outputs": [],
   "source": [
    "def list_number_of_magnetic_sites (list_struc):\n",
    "    return [CollinearMagneticStructureAnalyzer(structure).number_of_magnetic_sites for structure in list_struc]"
   ]
  },
  {
   "cell_type": "code",
   "execution_count": 92,
   "metadata": {},
   "outputs": [],
   "source": [
    "def list_number_of_unique_magnetic_sites (list_struc):\n",
    "    return [CollinearMagneticStructureAnalyzer(structure).number_of_unique_magnetic_sites() for structure in list_struc]"
   ]
  },
  {
   "cell_type": "code",
   "execution_count": 100,
   "metadata": {},
   "outputs": [],
   "source": [
    "def list_types_of_magnetic_specie (list_struc):\n",
    "    return [CollinearMagneticStructureAnalyzer(structure).types_of_magnetic_specie for structure in list_struc]"
   ]
  },
  {
   "cell_type": "code",
   "execution_count": 103,
   "metadata": {},
   "outputs": [],
   "source": [
    "def list_magmoms (list_struc):\n",
    "    return [CollinearMagneticStructureAnalyzer(structure).magmoms for structure in list_struc]"
   ]
  },
  {
   "cell_type": "code",
   "execution_count": 109,
   "metadata": {},
   "outputs": [],
   "source": [
    "def list_ordering (list_struc):\n",
    "    return [CollinearMagneticStructureAnalyzer(structure).ordering for structure in list_struc]"
   ]
  },
  {
   "cell_type": "code",
   "execution_count": 21,
   "metadata": {},
   "outputs": [],
   "source": [
    "def list_get_pattern (list_struc):\n",
    "    ls = []\n",
    "    for structure in list_struc:\n",
    "        i = NDCalculator()\n",
    "        ls.append(i.get_pattern(structure))\n",
    "    return ls"
   ]
  },
  {
   "cell_type": "code",
   "execution_count": 17,
   "metadata": {},
   "outputs": [],
   "source": [
    "def list_TransformedStructure (list_struc):\n",
    "    return [TransformedStructure(structure) for structure in list_struc]"
   ]
  },
  {
   "cell_type": "code",
   "execution_count": 29,
   "metadata": {},
   "outputs": [],
   "source": [
    "def list_get_pattern_xrd (list_struc):\n",
    "    ls = []\n",
    "    for structure in list_struc:\n",
    "        i = XRDCalculator()\n",
    "        ls.append(i.get_pattern(structure))\n",
    "    return ls"
   ]
  },
  {
   "cell_type": "code",
   "execution_count": 10,
   "metadata": {},
   "outputs": [],
   "source": [
    "def list_Defect (list_struc):\n",
    "    ls = []\n",
    "    for structure in list_struc:\n",
    "        i = Vacancy(structure)\n",
    "        ls.append(i.bulk_structure)\n",
    "    return ls\n",
    "#need defect sites"
   ]
  },
  {
   "cell_type": "code",
   "execution_count": 30,
   "metadata": {},
   "outputs": [],
   "source": [
    "def get_dataframe_from_cifdir (directory):\n",
    "    get_struct = read_cifformat_file (directory)\n",
    "    get_lststruct = get_struct[\"structure\"]\n",
    "    get_namefile = get_struct[\"namefile\"]\n",
    "    dict_struct = {}\n",
    "    dict_struct\n",
    "    dict_struct[\"name file\"] = get_namefile\n",
    "    dict_struct[\"formula\"] = list_formula(get_lststruct)\n",
    "#     dict_struct[\"a\"] = list_a(get_lststruct)\n",
    "#     dict_struct[\"b\"] = list_b(get_lststruct)\n",
    "#     dict_struct[\"c\"] = list_c(get_lststruct)\n",
    "#     dict_struct[\"alpha\"] = list_alpha(get_lststruct)\n",
    "#     dict_struct[\"beta\"] = list_beta(get_lststruct)\n",
    "#     dict_struct[\"gamma\"] = list_gamma(get_lststruct)\n",
    "#     dict_struct[\"angles\"] = list_angles(get_lststruct)\n",
    "#     dict_struct[\"volume\"] = list_volume(get_lststruct)\n",
    "#     dict_struct[\"density\"] = list_density(get_lststruct)\n",
    "#     dict_struct[\"oxide type\"] = list_oxide_type(get_lststruct)\n",
    "#     dict_struct[\"number of facets with i vertices\"] = list_number_of_facets_with_i_vertices (get_lststruct)\n",
    "#     dict_struct[\"the solid angle of polygon between atomi and imagej of atomj\"] = list_the_solid_angle_of_polygon_between_atomi_and_imagej_of_atomj (get_lststruct)\n",
    "#     dict_struct[\"Voronoi Neighbors\"] = list_Voronoi_Neighbors (get_lststruct)\n",
    "#     dict_struct[\"maximum connectivity\"] = list_maximum_connectivity (get_lststruct)\n",
    "#     dict_struct[\"contains peroxide\"] = list_contains_peroxide (get_lststruct)\n",
    "#     #checking\n",
    "#     dict_struct[\"dimensionality\"] = list_dimensionality (get_lststruct)\n",
    "#     dict_struct[\"maximum bond length\"] = list_maximum_bond_length (get_lststruct)\n",
    "#     dict_struct[\"sulfide type\"] = list_sulfide_type (get_lststruct)\n",
    "#     dict_struct[\"MultiWeights Chemenv Strategy\"] = list_getMultiWeightsChemenvStrategy (get_lststruct)\n",
    "#     dict_struct[\"Simplest Chemenv Strategy\"] = list_getSimplestChemenvStrategy (get_lststruct)\n",
    "#     dict_struct[\"Crystal System\"] = list_get_crystal_system(get_lststruct)\n",
    "#     dict_struct[\"Hall\"] = list_get_hall(get_lststruct)\n",
    "#     dict_struct[\"ir reciprocal mesh\"] = list_get_ir_reciprocal_mesh(get_lststruct)\n",
    "#     dict_struct[\"lattice type\"] = list_get_lattice_type(get_lststruct)\n",
    "#     dict_struct[\"space group number\"] = list_get_space_group_number(get_lststruct)\n",
    "#     dict_struct[\"number of magnetic sites\"] = list_number_of_magnetic_sites(get_lststruct)\n",
    "#     dict_struct[\"number of unique magnetic sites\"] = list_number_of_unique_magnetic_sites(get_lststruct)\n",
    "#     dict_struct[\"types of magnetic specie\"] = list_types_of_magnetic_specie(get_lststruct)\n",
    "#     dict_struct[\"magmoms\"] = list_magmoms(get_lststruct)\n",
    "#     dict_struct[\"ordering\"] = list_ordering(get_lststruct)\n",
    "#     dict_struct[\"diffraction pattern\"] = list_get_pattern(get_lststruct)\n",
    "    dict_struct[\"AbstractStructureFilter\"] = list_TransformedStructure(get_lststruct)\n",
    "    dict_struct[\"diffraction pattern\"] = list_get_pattern(get_lststruct)\n",
    "    dict_struct[\"diffraction pattern xrd\"] = list_get_pattern_xrd(get_lststruct)\n",
    "#     dick_struct[\"Defect\"] = list_Defect(get_lststruct)\n",
    "    df = pd.DataFrame.from_dict(dict_struct)\n",
    "    \n",
    "    \n",
    "    return df"
   ]
  },
  {
   "cell_type": "code",
   "execution_count": 31,
   "metadata": {
    "scrolled": true
   },
   "outputs": [
    {
     "name": "stderr",
     "output_type": "stream",
     "text": [
      "/home/phu/anaconda3/envs/matsci/lib/python3.6/site-packages/pymatgen/io/cif.py:1106: UserWarning: Issues encountered while parsing CIF:\n",
      "  warnings.warn(\"Issues encountered while parsing CIF:\")\n",
      "/home/phu/anaconda3/envs/matsci/lib/python3.6/site-packages/pymatgen/io/cif.py:1108: UserWarning: Some fractional co-ordinates rounded to ideal values to avoid finite precision errors.\n",
      "  warnings.warn(error)\n",
      "/home/phu/anaconda3/envs/matsci/lib/python3.6/site-packages/pymatgen/io/cif.py:1000: UserWarning: Some occupancies ([1, 1, 1, 1, 1, 1, 1, 2, 2, 2, 1, 2, 1, 2, 1, 1, 2, 2, 1, 1, 1, 2, 2, 2, 2, 1, 1, 2, 2, 2, 1, 4, 2, 1]) sum to > 1! If they are within the tolerance, they will be rescaled.\n",
      "  warnings.warn(msg)\n",
      "/home/phu/anaconda3/envs/matsci/lib/python3.6/site-packages/pymatgen/io/cif.py:1104: UserWarning: Species occupancies sum to more than 1!\n",
      "  warnings.warn(str(exc))\n",
      "/home/phu/anaconda3/envs/matsci/lib/python3.6/site-packages/pymatgen/io/cif.py:1108: UserWarning: Some occupancies ([1, 1, 1, 1, 1, 1, 1, 2, 2, 2, 1, 2, 1, 2, 1, 1, 2, 2, 1, 1, 1, 2, 2, 2, 2, 1, 1, 2, 2, 2, 1, 4, 2, 1]) sum to > 1! If they are within the tolerance, they will be rescaled.\n",
      "  warnings.warn(error)\n",
      "/home/phu/anaconda3/envs/matsci/lib/python3.6/site-packages/pymatgen/io/cif.py:1108: UserWarning: Species occupancies sum to more than 1!\n",
      "  warnings.warn(error)\n"
     ]
    },
    {
     "name": "stdout",
     "output_type": "stream",
     "text": [
      "/home/phu/Documents/matsci/4thCif/CCDC_1100736.cif\n"
     ]
    }
   ],
   "source": [
    "df = get_dataframe_from_cifdir(\"/home/phu/Documents/matsci/4thCif/\")\n",
    "#1304957.cif  1100502.cif  1276919.cif  1010852.cif"
   ]
  },
  {
   "cell_type": "code",
   "execution_count": 58,
   "metadata": {},
   "outputs": [
    {
     "data": {
      "text/html": [
       "<div>\n",
       "<style scoped>\n",
       "    .dataframe tbody tr th:only-of-type {\n",
       "        vertical-align: middle;\n",
       "    }\n",
       "\n",
       "    .dataframe tbody tr th {\n",
       "        vertical-align: top;\n",
       "    }\n",
       "\n",
       "    .dataframe thead th {\n",
       "        text-align: right;\n",
       "    }\n",
       "</style>\n",
       "<table border=\"1\" class=\"dataframe\">\n",
       "  <thead>\n",
       "    <tr style=\"text-align: right;\">\n",
       "      <th></th>\n",
       "      <th>name file</th>\n",
       "      <th>formula</th>\n",
       "      <th>AbstractStructureFilter</th>\n",
       "      <th>diffraction pattern</th>\n",
       "      <th>diffraction pattern xrd</th>\n",
       "    </tr>\n",
       "  </thead>\n",
       "  <tbody>\n",
       "    <tr>\n",
       "      <th>0</th>\n",
       "      <td>/home/phu/Documents/matsci/4thCif/CCDC_879560.cif</td>\n",
       "      <td>Zn4 H96 C64 S15.744 I16 O46.4</td>\n",
       "      <td>Current structure\\n------------\\nFull Formula ...</td>\n",
       "      <td>DiffractionPattern\\n$2\\Theta$: [ 6.74871592  8...</td>\n",
       "      <td>DiffractionPattern\\n$2\\Theta$: [ 6.74871592  8...</td>\n",
       "    </tr>\n",
       "    <tr>\n",
       "      <th>1</th>\n",
       "      <td>/home/phu/Documents/matsci/4thCif/CCDC_1038554...</td>\n",
       "      <td>H200 C184 S8 N40 O16</td>\n",
       "      <td>Current structure\\n------------\\nFull Formula ...</td>\n",
       "      <td>DiffractionPattern\\n$2\\Theta$: [ 7.80021375  8...</td>\n",
       "      <td>DiffractionPattern\\n$2\\Theta$: [ 7.80021375  8...</td>\n",
       "    </tr>\n",
       "    <tr>\n",
       "      <th>2</th>\n",
       "      <td>/home/phu/Documents/matsci/4thCif/CCDC_282735.cif</td>\n",
       "      <td>Cd4 H232 C160 S16 I8 N48 O32</td>\n",
       "      <td>Current structure\\n------------\\nFull Formula ...</td>\n",
       "      <td>DiffractionPattern\\n$2\\Theta$: [ 5.45766331  9...</td>\n",
       "      <td>DiffractionPattern\\n$2\\Theta$: [ 5.45766331  9...</td>\n",
       "    </tr>\n",
       "    <tr>\n",
       "      <th>3</th>\n",
       "      <td>/home/phu/Documents/matsci/4thCif/CCDC_893873.cif</td>\n",
       "      <td>Cd8 H256 C224 S32 N64 O48</td>\n",
       "      <td>Current structure\\n------------\\nFull Formula ...</td>\n",
       "      <td>DiffractionPattern\\n$2\\Theta$: [ 5.88027872  6...</td>\n",
       "      <td>DiffractionPattern\\n$2\\Theta$: [ 5.88027872  6...</td>\n",
       "    </tr>\n",
       "    <tr>\n",
       "      <th>4</th>\n",
       "      <td>/home/phu/Documents/matsci/4thCif/CCDC_613754.cif</td>\n",
       "      <td>H52 C52 S4 O16</td>\n",
       "      <td>Current structure\\n------------\\nFull Formula ...</td>\n",
       "      <td>DiffractionPattern\\n$2\\Theta$: [ 7.23378768  8...</td>\n",
       "      <td>DiffractionPattern\\n$2\\Theta$: [ 7.23378768  8...</td>\n",
       "    </tr>\n",
       "    <tr>\n",
       "      <th>5</th>\n",
       "      <td>/home/phu/Documents/matsci/4thCif/CCDC_871180.cif</td>\n",
       "      <td>H46 Pd2 C26 S6 N10 O10</td>\n",
       "      <td>Current structure\\n------------\\nFull Formula ...</td>\n",
       "      <td>DiffractionPattern\\n$2\\Theta$: [ 7.46630243  7...</td>\n",
       "      <td>DiffractionPattern\\n$2\\Theta$: [ 7.46630243  7...</td>\n",
       "    </tr>\n",
       "    <tr>\n",
       "      <th>6</th>\n",
       "      <td>/home/phu/Documents/matsci/4thCif/CCDC_142810.cif</td>\n",
       "      <td>H472 C460 S16 N132 O112</td>\n",
       "      <td>Current structure\\n------------\\nFull Formula ...</td>\n",
       "      <td>DiffractionPattern\\n$2\\Theta$: [ 5.2536828   6...</td>\n",
       "      <td>DiffractionPattern\\n$2\\Theta$: [ 5.2536828   6...</td>\n",
       "    </tr>\n",
       "    <tr>\n",
       "      <th>7</th>\n",
       "      <td>/home/phu/Documents/matsci/4thCif/CCDC_843227.cif</td>\n",
       "      <td>H47.51 C50 S1.17 N10.83 O7.17</td>\n",
       "      <td>Current structure\\n------------\\nFull Formula ...</td>\n",
       "      <td>DiffractionPattern\\n$2\\Theta$: [ 5.54035057  8...</td>\n",
       "      <td>DiffractionPattern\\n$2\\Theta$: [ 5.54035057  8...</td>\n",
       "    </tr>\n",
       "    <tr>\n",
       "      <th>8</th>\n",
       "      <td>/home/phu/Documents/matsci/4thCif/CCDC_1100544...</td>\n",
       "      <td>C80 S2 O70</td>\n",
       "      <td>Current structure\\n------------\\nFull Formula ...</td>\n",
       "      <td>DiffractionPattern\\n$2\\Theta$: [ 4.59242565  7...</td>\n",
       "      <td>DiffractionPattern\\n$2\\Theta$: [ 4.59242565  7...</td>\n",
       "    </tr>\n",
       "    <tr>\n",
       "      <th>9</th>\n",
       "      <td>/home/phu/Documents/matsci/4thCif/CCDC_864522.cif</td>\n",
       "      <td>Cu4 B8 H144 C84 S16 N16 O17 F32</td>\n",
       "      <td>Current structure\\n------------\\nFull Formula ...</td>\n",
       "      <td>DiffractionPattern\\n$2\\Theta$: [ 4.68929623  5...</td>\n",
       "      <td>DiffractionPattern\\n$2\\Theta$: [ 4.68929623  5...</td>\n",
       "    </tr>\n",
       "    <tr>\n",
       "      <th>10</th>\n",
       "      <td>/home/phu/Documents/matsci/4thCif/CCDC_1517511...</td>\n",
       "      <td>H96 C96 S8 N16 O4</td>\n",
       "      <td>Current structure\\n------------\\nFull Formula ...</td>\n",
       "      <td>DiffractionPattern\\n$2\\Theta$: [ 6.40394687  8...</td>\n",
       "      <td>DiffractionPattern\\n$2\\Theta$: [ 6.40394687  8...</td>\n",
       "    </tr>\n",
       "    <tr>\n",
       "      <th>11</th>\n",
       "      <td>/home/phu/Documents/matsci/4thCif/CCDC_934418.cif</td>\n",
       "      <td>H42 C50 S2 N4 O8 F6</td>\n",
       "      <td>Current structure\\n------------\\nFull Formula ...</td>\n",
       "      <td>DiffractionPattern\\n$2\\Theta$: [ 8.34728809  8...</td>\n",
       "      <td>DiffractionPattern\\n$2\\Theta$: [ 8.34728809  8...</td>\n",
       "    </tr>\n",
       "    <tr>\n",
       "      <th>12</th>\n",
       "      <td>/home/phu/Documents/matsci/4thCif/CCDC_150567.cif</td>\n",
       "      <td>H160 C156 S8 O24</td>\n",
       "      <td>Current structure\\n------------\\nFull Formula ...</td>\n",
       "      <td>DiffractionPattern\\n$2\\Theta$: [ 6.67344148  7...</td>\n",
       "      <td>DiffractionPattern\\n$2\\Theta$: [ 6.67344148  7...</td>\n",
       "    </tr>\n",
       "    <tr>\n",
       "      <th>13</th>\n",
       "      <td>/home/phu/Documents/matsci/4thCif/CCDC_169262.cif</td>\n",
       "      <td>Cd4 H76 C44 S8 I8 N20 O4</td>\n",
       "      <td>Current structure\\n------------\\nFull Formula ...</td>\n",
       "      <td>DiffractionPattern\\n$2\\Theta$: [ 9.26721332  9...</td>\n",
       "      <td>DiffractionPattern\\n$2\\Theta$: [ 9.26721332  9...</td>\n",
       "    </tr>\n",
       "    <tr>\n",
       "      <th>14</th>\n",
       "      <td>/home/phu/Documents/matsci/4thCif/CCDC_1041834...</td>\n",
       "      <td>Ni8 H232 C184 S16 Br16 N32 O68.0</td>\n",
       "      <td>Current structure\\n------------\\nFull Formula ...</td>\n",
       "      <td>DiffractionPattern\\n$2\\Theta$: [ 3.71344621  7...</td>\n",
       "      <td>DiffractionPattern\\n$2\\Theta$: [ 3.71344621  7...</td>\n",
       "    </tr>\n",
       "    <tr>\n",
       "      <th>15</th>\n",
       "      <td>/home/phu/Documents/matsci/4thCif/CCDC_282733.cif</td>\n",
       "      <td>Zn4 H160 C88 S4 Br8 N24 O28</td>\n",
       "      <td>Current structure\\n------------\\nFull Formula ...</td>\n",
       "      <td>DiffractionPattern\\n$2\\Theta$: [ 6.64922818  6...</td>\n",
       "      <td>DiffractionPattern\\n$2\\Theta$: [ 6.64922818  6...</td>\n",
       "    </tr>\n",
       "    <tr>\n",
       "      <th>16</th>\n",
       "      <td>/home/phu/Documents/matsci/4thCif/CCDC_143378.cif</td>\n",
       "      <td>Cu2 H32 C34 S8 N8 O8</td>\n",
       "      <td>Current structure\\n------------\\nFull Formula ...</td>\n",
       "      <td>DiffractionPattern\\n$2\\Theta$: [ 7.20350883  8...</td>\n",
       "      <td>DiffractionPattern\\n$2\\Theta$: [ 7.20350883  8...</td>\n",
       "    </tr>\n",
       "    <tr>\n",
       "      <th>17</th>\n",
       "      <td>/home/phu/Documents/matsci/4thCif/CCDC_1526441...</td>\n",
       "      <td>B2 H30 C34 S2 N6 Cl2 O2 F4</td>\n",
       "      <td>Current structure\\n------------\\nFull Formula ...</td>\n",
       "      <td>DiffractionPattern\\n$2\\Theta$: [ 7.94250378  7...</td>\n",
       "      <td>DiffractionPattern\\n$2\\Theta$: [ 7.94250378  7...</td>\n",
       "    </tr>\n",
       "    <tr>\n",
       "      <th>18</th>\n",
       "      <td>/home/phu/Documents/matsci/4thCif/CCDC_607441.cif</td>\n",
       "      <td>Cu72 H576 C1152 N144 O360</td>\n",
       "      <td>Current structure\\n------------\\nFull Formula ...</td>\n",
       "      <td>DiffractionPattern\\n$2\\Theta$: [ 3.28112339  3...</td>\n",
       "      <td>DiffractionPattern\\n$2\\Theta$: [ 3.28112339  3...</td>\n",
       "    </tr>\n",
       "    <tr>\n",
       "      <th>19</th>\n",
       "      <td>/home/phu/Documents/matsci/4thCif/CCDC_288217.cif</td>\n",
       "      <td>H180 Ir2 C134 S6 N6 O8</td>\n",
       "      <td>Current structure\\n------------\\nFull Formula ...</td>\n",
       "      <td>DiffractionPattern\\n$2\\Theta$: [ 5.93019015  6...</td>\n",
       "      <td>DiffractionPattern\\n$2\\Theta$: [ 5.93019015  6...</td>\n",
       "    </tr>\n",
       "    <tr>\n",
       "      <th>20</th>\n",
       "      <td>/home/phu/Documents/matsci/4thCif/CCDC_1038557...</td>\n",
       "      <td>H344 C288 S8.0 N40 O16</td>\n",
       "      <td>Current structure\\n------------\\nFull Formula ...</td>\n",
       "      <td>DiffractionPattern\\n$2\\Theta$: [ 7.08212486  7...</td>\n",
       "      <td>DiffractionPattern\\n$2\\Theta$: [ 7.08212486  7...</td>\n",
       "    </tr>\n",
       "    <tr>\n",
       "      <th>21</th>\n",
       "      <td>/home/phu/Documents/matsci/4thCif/CCDC_871181.cif</td>\n",
       "      <td>H46 Pt2 C26 S6 N10 O10</td>\n",
       "      <td>Current structure\\n------------\\nFull Formula ...</td>\n",
       "      <td>DiffractionPattern\\n$2\\Theta$: [ 7.48451368  7...</td>\n",
       "      <td>DiffractionPattern\\n$2\\Theta$: [ 7.48451368  7...</td>\n",
       "    </tr>\n",
       "    <tr>\n",
       "      <th>22</th>\n",
       "      <td>/home/phu/Documents/matsci/4thCif/CCDC_147336.cif</td>\n",
       "      <td>H233.6 C243.2 S5.6 N88 O45.6</td>\n",
       "      <td>Current structure\\n------------\\nFull Formula ...</td>\n",
       "      <td>DiffractionPattern\\n$2\\Theta$: [ 6.4701691   8...</td>\n",
       "      <td>DiffractionPattern\\n$2\\Theta$: [ 6.4701691   8...</td>\n",
       "    </tr>\n",
       "    <tr>\n",
       "      <th>23</th>\n",
       "      <td>/home/phu/Documents/matsci/4thCif/CCDC_1495581...</td>\n",
       "      <td>H164 C112 S4 N20 Cl8 O28</td>\n",
       "      <td>Current structure\\n------------\\nFull Formula ...</td>\n",
       "      <td>DiffractionPattern\\n$2\\Theta$: [ 6.30273181  6...</td>\n",
       "      <td>DiffractionPattern\\n$2\\Theta$: [ 4.22587918  6...</td>\n",
       "    </tr>\n",
       "    <tr>\n",
       "      <th>24</th>\n",
       "      <td>/home/phu/Documents/matsci/4thCif/CCDC_282734.cif</td>\n",
       "      <td>Cd4 H240 C160 S16 Br8 N48 O32</td>\n",
       "      <td>Current structure\\n------------\\nFull Formula ...</td>\n",
       "      <td>DiffractionPattern\\n$2\\Theta$: [ 5.51658455  9...</td>\n",
       "      <td>DiffractionPattern\\n$2\\Theta$: [ 5.51658455  9...</td>\n",
       "    </tr>\n",
       "    <tr>\n",
       "      <th>25</th>\n",
       "      <td>/home/phu/Documents/matsci/4thCif/CCDC_1526442...</td>\n",
       "      <td>B2 H36 C36 S2 N6 O4 F4</td>\n",
       "      <td>Current structure\\n------------\\nFull Formula ...</td>\n",
       "      <td>DiffractionPattern\\n$2\\Theta$: [ 7.96117229  7...</td>\n",
       "      <td>DiffractionPattern\\n$2\\Theta$: [ 7.96117229  7...</td>\n",
       "    </tr>\n",
       "    <tr>\n",
       "      <th>26</th>\n",
       "      <td>/home/phu/Documents/matsci/4thCif/CCDC_1483550...</td>\n",
       "      <td>Mn2 H36 C38 S2 N4 Cl8 O8</td>\n",
       "      <td>Current structure\\n------------\\nFull Formula ...</td>\n",
       "      <td>DiffractionPattern\\n$2\\Theta$: [ 8.18234136  8...</td>\n",
       "      <td>DiffractionPattern\\n$2\\Theta$: [ 8.18234136  8...</td>\n",
       "    </tr>\n",
       "    <tr>\n",
       "      <th>27</th>\n",
       "      <td>/home/phu/Documents/matsci/4thCif/CCDC_864523.cif</td>\n",
       "      <td>Cu4 B8 H144.0 C84 S16 N16 O16 F32</td>\n",
       "      <td>Current structure\\n------------\\nFull Formula ...</td>\n",
       "      <td>DiffractionPattern\\n$2\\Theta$: [ 6.47338485  7...</td>\n",
       "      <td>DiffractionPattern\\n$2\\Theta$: [ 6.47338485  7...</td>\n",
       "    </tr>\n",
       "    <tr>\n",
       "      <th>28</th>\n",
       "      <td>/home/phu/Documents/matsci/4thCif/CCDC_1526440...</td>\n",
       "      <td>B4 H60 C68 S4 N12 Cl4 O4 F8</td>\n",
       "      <td>Current structure\\n------------\\nFull Formula ...</td>\n",
       "      <td>DiffractionPattern\\n$2\\Theta$: [ 8.66919294  8...</td>\n",
       "      <td>DiffractionPattern\\n$2\\Theta$: [ 8.66919294  8...</td>\n",
       "    </tr>\n",
       "  </tbody>\n",
       "</table>\n",
       "</div>"
      ],
      "text/plain": [
       "                                            name file  \\\n",
       "0   /home/phu/Documents/matsci/4thCif/CCDC_879560.cif   \n",
       "1   /home/phu/Documents/matsci/4thCif/CCDC_1038554...   \n",
       "2   /home/phu/Documents/matsci/4thCif/CCDC_282735.cif   \n",
       "3   /home/phu/Documents/matsci/4thCif/CCDC_893873.cif   \n",
       "4   /home/phu/Documents/matsci/4thCif/CCDC_613754.cif   \n",
       "5   /home/phu/Documents/matsci/4thCif/CCDC_871180.cif   \n",
       "6   /home/phu/Documents/matsci/4thCif/CCDC_142810.cif   \n",
       "7   /home/phu/Documents/matsci/4thCif/CCDC_843227.cif   \n",
       "8   /home/phu/Documents/matsci/4thCif/CCDC_1100544...   \n",
       "9   /home/phu/Documents/matsci/4thCif/CCDC_864522.cif   \n",
       "10  /home/phu/Documents/matsci/4thCif/CCDC_1517511...   \n",
       "11  /home/phu/Documents/matsci/4thCif/CCDC_934418.cif   \n",
       "12  /home/phu/Documents/matsci/4thCif/CCDC_150567.cif   \n",
       "13  /home/phu/Documents/matsci/4thCif/CCDC_169262.cif   \n",
       "14  /home/phu/Documents/matsci/4thCif/CCDC_1041834...   \n",
       "15  /home/phu/Documents/matsci/4thCif/CCDC_282733.cif   \n",
       "16  /home/phu/Documents/matsci/4thCif/CCDC_143378.cif   \n",
       "17  /home/phu/Documents/matsci/4thCif/CCDC_1526441...   \n",
       "18  /home/phu/Documents/matsci/4thCif/CCDC_607441.cif   \n",
       "19  /home/phu/Documents/matsci/4thCif/CCDC_288217.cif   \n",
       "20  /home/phu/Documents/matsci/4thCif/CCDC_1038557...   \n",
       "21  /home/phu/Documents/matsci/4thCif/CCDC_871181.cif   \n",
       "22  /home/phu/Documents/matsci/4thCif/CCDC_147336.cif   \n",
       "23  /home/phu/Documents/matsci/4thCif/CCDC_1495581...   \n",
       "24  /home/phu/Documents/matsci/4thCif/CCDC_282734.cif   \n",
       "25  /home/phu/Documents/matsci/4thCif/CCDC_1526442...   \n",
       "26  /home/phu/Documents/matsci/4thCif/CCDC_1483550...   \n",
       "27  /home/phu/Documents/matsci/4thCif/CCDC_864523.cif   \n",
       "28  /home/phu/Documents/matsci/4thCif/CCDC_1526440...   \n",
       "\n",
       "                              formula  \\\n",
       "0       Zn4 H96 C64 S15.744 I16 O46.4   \n",
       "1                H200 C184 S8 N40 O16   \n",
       "2        Cd4 H232 C160 S16 I8 N48 O32   \n",
       "3           Cd8 H256 C224 S32 N64 O48   \n",
       "4                      H52 C52 S4 O16   \n",
       "5              H46 Pd2 C26 S6 N10 O10   \n",
       "6             H472 C460 S16 N132 O112   \n",
       "7       H47.51 C50 S1.17 N10.83 O7.17   \n",
       "8                          C80 S2 O70   \n",
       "9     Cu4 B8 H144 C84 S16 N16 O17 F32   \n",
       "10                  H96 C96 S8 N16 O4   \n",
       "11                H42 C50 S2 N4 O8 F6   \n",
       "12                   H160 C156 S8 O24   \n",
       "13           Cd4 H76 C44 S8 I8 N20 O4   \n",
       "14   Ni8 H232 C184 S16 Br16 N32 O68.0   \n",
       "15        Zn4 H160 C88 S4 Br8 N24 O28   \n",
       "16               Cu2 H32 C34 S8 N8 O8   \n",
       "17         B2 H30 C34 S2 N6 Cl2 O2 F4   \n",
       "18          Cu72 H576 C1152 N144 O360   \n",
       "19             H180 Ir2 C134 S6 N6 O8   \n",
       "20             H344 C288 S8.0 N40 O16   \n",
       "21             H46 Pt2 C26 S6 N10 O10   \n",
       "22       H233.6 C243.2 S5.6 N88 O45.6   \n",
       "23           H164 C112 S4 N20 Cl8 O28   \n",
       "24      Cd4 H240 C160 S16 Br8 N48 O32   \n",
       "25             B2 H36 C36 S2 N6 O4 F4   \n",
       "26           Mn2 H36 C38 S2 N4 Cl8 O8   \n",
       "27  Cu4 B8 H144.0 C84 S16 N16 O16 F32   \n",
       "28        B4 H60 C68 S4 N12 Cl4 O4 F8   \n",
       "\n",
       "                              AbstractStructureFilter  \\\n",
       "0   Current structure\\n------------\\nFull Formula ...   \n",
       "1   Current structure\\n------------\\nFull Formula ...   \n",
       "2   Current structure\\n------------\\nFull Formula ...   \n",
       "3   Current structure\\n------------\\nFull Formula ...   \n",
       "4   Current structure\\n------------\\nFull Formula ...   \n",
       "5   Current structure\\n------------\\nFull Formula ...   \n",
       "6   Current structure\\n------------\\nFull Formula ...   \n",
       "7   Current structure\\n------------\\nFull Formula ...   \n",
       "8   Current structure\\n------------\\nFull Formula ...   \n",
       "9   Current structure\\n------------\\nFull Formula ...   \n",
       "10  Current structure\\n------------\\nFull Formula ...   \n",
       "11  Current structure\\n------------\\nFull Formula ...   \n",
       "12  Current structure\\n------------\\nFull Formula ...   \n",
       "13  Current structure\\n------------\\nFull Formula ...   \n",
       "14  Current structure\\n------------\\nFull Formula ...   \n",
       "15  Current structure\\n------------\\nFull Formula ...   \n",
       "16  Current structure\\n------------\\nFull Formula ...   \n",
       "17  Current structure\\n------------\\nFull Formula ...   \n",
       "18  Current structure\\n------------\\nFull Formula ...   \n",
       "19  Current structure\\n------------\\nFull Formula ...   \n",
       "20  Current structure\\n------------\\nFull Formula ...   \n",
       "21  Current structure\\n------------\\nFull Formula ...   \n",
       "22  Current structure\\n------------\\nFull Formula ...   \n",
       "23  Current structure\\n------------\\nFull Formula ...   \n",
       "24  Current structure\\n------------\\nFull Formula ...   \n",
       "25  Current structure\\n------------\\nFull Formula ...   \n",
       "26  Current structure\\n------------\\nFull Formula ...   \n",
       "27  Current structure\\n------------\\nFull Formula ...   \n",
       "28  Current structure\\n------------\\nFull Formula ...   \n",
       "\n",
       "                                  diffraction pattern  \\\n",
       "0   DiffractionPattern\\n$2\\Theta$: [ 6.74871592  8...   \n",
       "1   DiffractionPattern\\n$2\\Theta$: [ 7.80021375  8...   \n",
       "2   DiffractionPattern\\n$2\\Theta$: [ 5.45766331  9...   \n",
       "3   DiffractionPattern\\n$2\\Theta$: [ 5.88027872  6...   \n",
       "4   DiffractionPattern\\n$2\\Theta$: [ 7.23378768  8...   \n",
       "5   DiffractionPattern\\n$2\\Theta$: [ 7.46630243  7...   \n",
       "6   DiffractionPattern\\n$2\\Theta$: [ 5.2536828   6...   \n",
       "7   DiffractionPattern\\n$2\\Theta$: [ 5.54035057  8...   \n",
       "8   DiffractionPattern\\n$2\\Theta$: [ 4.59242565  7...   \n",
       "9   DiffractionPattern\\n$2\\Theta$: [ 4.68929623  5...   \n",
       "10  DiffractionPattern\\n$2\\Theta$: [ 6.40394687  8...   \n",
       "11  DiffractionPattern\\n$2\\Theta$: [ 8.34728809  8...   \n",
       "12  DiffractionPattern\\n$2\\Theta$: [ 6.67344148  7...   \n",
       "13  DiffractionPattern\\n$2\\Theta$: [ 9.26721332  9...   \n",
       "14  DiffractionPattern\\n$2\\Theta$: [ 3.71344621  7...   \n",
       "15  DiffractionPattern\\n$2\\Theta$: [ 6.64922818  6...   \n",
       "16  DiffractionPattern\\n$2\\Theta$: [ 7.20350883  8...   \n",
       "17  DiffractionPattern\\n$2\\Theta$: [ 7.94250378  7...   \n",
       "18  DiffractionPattern\\n$2\\Theta$: [ 3.28112339  3...   \n",
       "19  DiffractionPattern\\n$2\\Theta$: [ 5.93019015  6...   \n",
       "20  DiffractionPattern\\n$2\\Theta$: [ 7.08212486  7...   \n",
       "21  DiffractionPattern\\n$2\\Theta$: [ 7.48451368  7...   \n",
       "22  DiffractionPattern\\n$2\\Theta$: [ 6.4701691   8...   \n",
       "23  DiffractionPattern\\n$2\\Theta$: [ 6.30273181  6...   \n",
       "24  DiffractionPattern\\n$2\\Theta$: [ 5.51658455  9...   \n",
       "25  DiffractionPattern\\n$2\\Theta$: [ 7.96117229  7...   \n",
       "26  DiffractionPattern\\n$2\\Theta$: [ 8.18234136  8...   \n",
       "27  DiffractionPattern\\n$2\\Theta$: [ 6.47338485  7...   \n",
       "28  DiffractionPattern\\n$2\\Theta$: [ 8.66919294  8...   \n",
       "\n",
       "                              diffraction pattern xrd  \n",
       "0   DiffractionPattern\\n$2\\Theta$: [ 6.74871592  8...  \n",
       "1   DiffractionPattern\\n$2\\Theta$: [ 7.80021375  8...  \n",
       "2   DiffractionPattern\\n$2\\Theta$: [ 5.45766331  9...  \n",
       "3   DiffractionPattern\\n$2\\Theta$: [ 5.88027872  6...  \n",
       "4   DiffractionPattern\\n$2\\Theta$: [ 7.23378768  8...  \n",
       "5   DiffractionPattern\\n$2\\Theta$: [ 7.46630243  7...  \n",
       "6   DiffractionPattern\\n$2\\Theta$: [ 5.2536828   6...  \n",
       "7   DiffractionPattern\\n$2\\Theta$: [ 5.54035057  8...  \n",
       "8   DiffractionPattern\\n$2\\Theta$: [ 4.59242565  7...  \n",
       "9   DiffractionPattern\\n$2\\Theta$: [ 4.68929623  5...  \n",
       "10  DiffractionPattern\\n$2\\Theta$: [ 6.40394687  8...  \n",
       "11  DiffractionPattern\\n$2\\Theta$: [ 8.34728809  8...  \n",
       "12  DiffractionPattern\\n$2\\Theta$: [ 6.67344148  7...  \n",
       "13  DiffractionPattern\\n$2\\Theta$: [ 9.26721332  9...  \n",
       "14  DiffractionPattern\\n$2\\Theta$: [ 3.71344621  7...  \n",
       "15  DiffractionPattern\\n$2\\Theta$: [ 6.64922818  6...  \n",
       "16  DiffractionPattern\\n$2\\Theta$: [ 7.20350883  8...  \n",
       "17  DiffractionPattern\\n$2\\Theta$: [ 7.94250378  7...  \n",
       "18  DiffractionPattern\\n$2\\Theta$: [ 3.28112339  3...  \n",
       "19  DiffractionPattern\\n$2\\Theta$: [ 5.93019015  6...  \n",
       "20  DiffractionPattern\\n$2\\Theta$: [ 7.08212486  7...  \n",
       "21  DiffractionPattern\\n$2\\Theta$: [ 7.48451368  7...  \n",
       "22  DiffractionPattern\\n$2\\Theta$: [ 6.4701691   8...  \n",
       "23  DiffractionPattern\\n$2\\Theta$: [ 4.22587918  6...  \n",
       "24  DiffractionPattern\\n$2\\Theta$: [ 5.51658455  9...  \n",
       "25  DiffractionPattern\\n$2\\Theta$: [ 7.96117229  7...  \n",
       "26  DiffractionPattern\\n$2\\Theta$: [ 8.18234136  8...  \n",
       "27  DiffractionPattern\\n$2\\Theta$: [ 6.47338485  7...  \n",
       "28  DiffractionPattern\\n$2\\Theta$: [ 8.66919294  8...  "
      ]
     },
     "execution_count": 58,
     "metadata": {},
     "output_type": "execute_result"
    }
   ],
   "source": [
    "df"
   ]
  },
  {
   "cell_type": "code",
   "execution_count": 25,
   "metadata": {
    "scrolled": false
   },
   "outputs": [],
   "source": [
    " k = df[\"AbstractStructureFilter\"][0]"
   ]
  },
  {
   "cell_type": "code",
   "execution_count": 26,
   "metadata": {},
   "outputs": [
    {
     "data": {
      "text/plain": [
       "<pymatgen.alchemy.materials.TransformedStructure at 0x7f392986ce48>"
      ]
     },
     "execution_count": 26,
     "metadata": {},
     "output_type": "execute_result"
    }
   ],
   "source": [
    "k"
   ]
  },
  {
   "cell_type": "code",
   "execution_count": 55,
   "metadata": {},
   "outputs": [
    {
     "data": {
      "text/plain": [
       "DiffractionPattern\n",
       "$2\\Theta$: [ 8.66919294  8.91027331 11.61454951 ... 89.93218981 89.93736593\n",
       " 89.95854706]\n",
       "Intensity: [5.44163288e+01 1.00000000e+02 8.31634515e+00 ... 1.32297691e-01\n",
       " 7.31661057e-01 4.64420702e-02]"
      ]
     },
     "execution_count": 55,
     "metadata": {},
     "output_type": "execute_result"
    }
   ],
   "source": [
    "filepath = \"/home/phu/Documents/matsci/4thCif/CCDC_1526440.cif\"\n",
    "i = NDCalculator()\n",
    "i.get_pattern(Structure.from_file(filepath))"
   ]
  }
 ],
 "metadata": {
  "kernelspec": {
   "display_name": "Python matsci",
   "language": "python",
   "name": "matsci"
  },
  "language_info": {
   "codemirror_mode": {
    "name": "ipython",
    "version": 3
   },
   "file_extension": ".py",
   "mimetype": "text/x-python",
   "name": "python",
   "nbconvert_exporter": "python",
   "pygments_lexer": "ipython3",
   "version": "3.6.6"
  }
 },
 "nbformat": 4,
 "nbformat_minor": 2
}
