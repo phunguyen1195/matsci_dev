{
 "cells": [
  {
   "cell_type": "code",
   "execution_count": 1,
   "metadata": {},
   "outputs": [],
   "source": [
    "import shutil\n",
    "import os"
   ]
  },
  {
   "cell_type": "code",
   "execution_count": 3,
   "metadata": {},
   "outputs": [],
   "source": [
    "dir = \"/home/phu/Documents/matsci/newCIF_hexafluorophosphate/\""
   ]
  },
  {
   "cell_type": "code",
   "execution_count": 4,
   "metadata": {},
   "outputs": [],
   "source": [
    "dest = \"/home/phu/Documents/matsci/lis_hexafluorophosphate/\""
   ]
  },
  {
   "cell_type": "code",
   "execution_count": 5,
   "metadata": {},
   "outputs": [],
   "source": [
    "a = []"
   ]
  },
  {
   "cell_type": "code",
   "execution_count": 6,
   "metadata": {},
   "outputs": [],
   "source": [
    "for file in os.listdir(dir):\n",
    "    if file.endswith(\".lis\"):\n",
    "        a.append(os.path.join(dir , file))"
   ]
  },
  {
   "cell_type": "code",
   "execution_count": 7,
   "metadata": {},
   "outputs": [
    {
     "data": {
      "text/plain": [
       "['/home/phu/Documents/matsci/newCIF_hexafluorophosphate/CCDC_1824721.lis',\n",
       " '/home/phu/Documents/matsci/newCIF_hexafluorophosphate/CCDC_1846458.lis',\n",
       " '/home/phu/Documents/matsci/newCIF_hexafluorophosphate/CCDC_1881678.lis',\n",
       " '/home/phu/Documents/matsci/newCIF_hexafluorophosphate/CCDC_1880894.lis',\n",
       " '/home/phu/Documents/matsci/newCIF_hexafluorophosphate/CCDC_1561212.lis',\n",
       " '/home/phu/Documents/matsci/newCIF_hexafluorophosphate/CCDC_1816930.lis',\n",
       " '/home/phu/Documents/matsci/newCIF_hexafluorophosphate/CCDC_1845661.lis',\n",
       " '/home/phu/Documents/matsci/newCIF_hexafluorophosphate/CCDC_1541932.lis',\n",
       " '/home/phu/Documents/matsci/newCIF_hexafluorophosphate/CCDC_1848627.lis',\n",
       " '/home/phu/Documents/matsci/newCIF_hexafluorophosphate/CCDC_1852955.lis',\n",
       " '/home/phu/Documents/matsci/newCIF_hexafluorophosphate/CCDC_1576431.lis',\n",
       " '/home/phu/Documents/matsci/newCIF_hexafluorophosphate/CCDC_1573181.lis',\n",
       " '/home/phu/Documents/matsci/newCIF_hexafluorophosphate/CCDC_1848631.lis',\n",
       " '/home/phu/Documents/matsci/newCIF_hexafluorophosphate/CCDC_1850855.lis',\n",
       " '/home/phu/Documents/matsci/newCIF_hexafluorophosphate/CCDC_1872864.lis',\n",
       " '/home/phu/Documents/matsci/newCIF_hexafluorophosphate/CCDC_1853186.lis',\n",
       " '/home/phu/Documents/matsci/newCIF_hexafluorophosphate/CCDC_1854879.lis',\n",
       " '/home/phu/Documents/matsci/newCIF_hexafluorophosphate/CCDC_1853347.lis',\n",
       " '/home/phu/Documents/matsci/newCIF_hexafluorophosphate/CCDC_1848313.lis',\n",
       " '/home/phu/Documents/matsci/newCIF_hexafluorophosphate/CCDC_1852958.lis',\n",
       " '/home/phu/Documents/matsci/newCIF_hexafluorophosphate/CCDC_1556067.lis',\n",
       " '/home/phu/Documents/matsci/newCIF_hexafluorophosphate/CCDC_1884116.lis',\n",
       " '/home/phu/Documents/matsci/newCIF_hexafluorophosphate/CCDC_1853346.lis',\n",
       " '/home/phu/Documents/matsci/newCIF_hexafluorophosphate/CCDC_1848626.lis',\n",
       " '/home/phu/Documents/matsci/newCIF_hexafluorophosphate/CCDC_1827213.lis',\n",
       " '/home/phu/Documents/matsci/newCIF_hexafluorophosphate/CCDC_1858419.lis',\n",
       " '/home/phu/Documents/matsci/newCIF_hexafluorophosphate/CCDC_1852925.lis',\n",
       " '/home/phu/Documents/matsci/newCIF_hexafluorophosphate/CCDC_1576428.lis',\n",
       " '/home/phu/Documents/matsci/newCIF_hexafluorophosphate/CCDC_1543705.lis',\n",
       " '/home/phu/Documents/matsci/newCIF_hexafluorophosphate/CCDC_1572704.lis',\n",
       " '/home/phu/Documents/matsci/newCIF_hexafluorophosphate/CCDC_1860470.lis',\n",
       " '/home/phu/Documents/matsci/newCIF_hexafluorophosphate/CCDC_1845560.lis',\n",
       " '/home/phu/Documents/matsci/newCIF_hexafluorophosphate/CCDC_1569876.lis',\n",
       " '/home/phu/Documents/matsci/newCIF_hexafluorophosphate/CCDC_781650.lis',\n",
       " '/home/phu/Documents/matsci/newCIF_hexafluorophosphate/CCDC_1564421.lis',\n",
       " '/home/phu/Documents/matsci/newCIF_hexafluorophosphate/CCDC_1884118.lis',\n",
       " '/home/phu/Documents/matsci/newCIF_hexafluorophosphate/CCDC_1851142.lis',\n",
       " '/home/phu/Documents/matsci/newCIF_hexafluorophosphate/CCDC_1851540.lis',\n",
       " '/home/phu/Documents/matsci/newCIF_hexafluorophosphate/CCDC_1856426.lis',\n",
       " '/home/phu/Documents/matsci/newCIF_hexafluorophosphate/CCDC_1865560.lis',\n",
       " '/home/phu/Documents/matsci/newCIF_hexafluorophosphate/CCDC_1855898.lis',\n",
       " '/home/phu/Documents/matsci/newCIF_hexafluorophosphate/CCDC_1856448.lis',\n",
       " '/home/phu/Documents/matsci/newCIF_hexafluorophosphate/CCDC_1844062.lis',\n",
       " '/home/phu/Documents/matsci/newCIF_hexafluorophosphate/CCDC_1839168.lis',\n",
       " '/home/phu/Documents/matsci/newCIF_hexafluorophosphate/CCDC_1881121.lis',\n",
       " '/home/phu/Documents/matsci/newCIF_hexafluorophosphate/CCDC_1587083.lis',\n",
       " '/home/phu/Documents/matsci/newCIF_hexafluorophosphate/CCDC_1588322.lis',\n",
       " '/home/phu/Documents/matsci/newCIF_hexafluorophosphate/CCDC_1844063.lis',\n",
       " '/home/phu/Documents/matsci/newCIF_hexafluorophosphate/CCDC_1540014.lis',\n",
       " '/home/phu/Documents/matsci/newCIF_hexafluorophosphate/CCDC_1850040.lis',\n",
       " '/home/phu/Documents/matsci/newCIF_hexafluorophosphate/CCDC_1848217.lis',\n",
       " '/home/phu/Documents/matsci/newCIF_hexafluorophosphate/CCDC_1855897.lis',\n",
       " '/home/phu/Documents/matsci/newCIF_hexafluorophosphate/CCDC_1872866.lis',\n",
       " '/home/phu/Documents/matsci/newCIF_hexafluorophosphate/CCDC_1851542.lis',\n",
       " '/home/phu/Documents/matsci/newCIF_hexafluorophosphate/CCDC_1587082.lis',\n",
       " '/home/phu/Documents/matsci/newCIF_hexafluorophosphate/CCDC_1865021.lis',\n",
       " '/home/phu/Documents/matsci/newCIF_hexafluorophosphate/CCDC_1862329.lis',\n",
       " '/home/phu/Documents/matsci/newCIF_hexafluorophosphate/CCDC_1582261.lis',\n",
       " '/home/phu/Documents/matsci/newCIF_hexafluorophosphate/CCDC_1848629.lis',\n",
       " '/home/phu/Documents/matsci/newCIF_hexafluorophosphate/CCDC_1491467.lis',\n",
       " '/home/phu/Documents/matsci/newCIF_hexafluorophosphate/CCDC_1865075.lis',\n",
       " '/home/phu/Documents/matsci/newCIF_hexafluorophosphate/CCDC_1824723.lis',\n",
       " '/home/phu/Documents/matsci/newCIF_hexafluorophosphate/CCDC_1871539.lis',\n",
       " '/home/phu/Documents/matsci/newCIF_hexafluorophosphate/CCDC_1573180.lis',\n",
       " '/home/phu/Documents/matsci/newCIF_hexafluorophosphate/CCDC_1871942.lis',\n",
       " '/home/phu/Documents/matsci/newCIF_hexafluorophosphate/CCDC_1857201.lis',\n",
       " '/home/phu/Documents/matsci/newCIF_hexafluorophosphate/CCDC_1816931.lis',\n",
       " '/home/phu/Documents/matsci/newCIF_hexafluorophosphate/CCDC_1855444.lis',\n",
       " '/home/phu/Documents/matsci/newCIF_hexafluorophosphate/CCDC_1851546.lis',\n",
       " '/home/phu/Documents/matsci/newCIF_hexafluorophosphate/CCDC_1866836.lis',\n",
       " '/home/phu/Documents/matsci/newCIF_hexafluorophosphate/CCDC_1851544.lis',\n",
       " '/home/phu/Documents/matsci/newCIF_hexafluorophosphate/CCDC_1846461.lis',\n",
       " '/home/phu/Documents/matsci/newCIF_hexafluorophosphate/CCDC_1854484.lis',\n",
       " '/home/phu/Documents/matsci/newCIF_hexafluorophosphate/CCDC_1870395.lis',\n",
       " '/home/phu/Documents/matsci/newCIF_hexafluorophosphate/CCDC_1834671.lis',\n",
       " '/home/phu/Documents/matsci/newCIF_hexafluorophosphate/CCDC_1870393.lis',\n",
       " '/home/phu/Documents/matsci/newCIF_hexafluorophosphate/CCDC_1867531.lis',\n",
       " '/home/phu/Documents/matsci/newCIF_hexafluorophosphate/CCDC_1865025.lis',\n",
       " '/home/phu/Documents/matsci/newCIF_hexafluorophosphate/CCDC_1884122.lis',\n",
       " '/home/phu/Documents/matsci/newCIF_hexafluorophosphate/CCDC_1869363.lis',\n",
       " '/home/phu/Documents/matsci/newCIF_hexafluorophosphate/CCDC_1561540.lis',\n",
       " '/home/phu/Documents/matsci/newCIF_hexafluorophosphate/CCDC_1826209.lis',\n",
       " '/home/phu/Documents/matsci/newCIF_hexafluorophosphate/CCDC_1587084.lis',\n",
       " '/home/phu/Documents/matsci/newCIF_hexafluorophosphate/CCDC_1840374.lis',\n",
       " '/home/phu/Documents/matsci/newCIF_hexafluorophosphate/CCDC_1839679.lis',\n",
       " '/home/phu/Documents/matsci/newCIF_hexafluorophosphate/CCDC_1848218.lis',\n",
       " '/home/phu/Documents/matsci/newCIF_hexafluorophosphate/CCDC_1867503.lis',\n",
       " '/home/phu/Documents/matsci/newCIF_hexafluorophosphate/CCDC_1867529.lis',\n",
       " '/home/phu/Documents/matsci/newCIF_hexafluorophosphate/CCDC_1865563.lis',\n",
       " '/home/phu/Documents/matsci/newCIF_hexafluorophosphate/CCDC_1848628.lis',\n",
       " '/home/phu/Documents/matsci/newCIF_hexafluorophosphate/CCDC_1862183.lis',\n",
       " '/home/phu/Documents/matsci/newCIF_hexafluorophosphate/CCDC_1853673.lis',\n",
       " '/home/phu/Documents/matsci/newCIF_hexafluorophosphate/CCDC_1554029.lis',\n",
       " '/home/phu/Documents/matsci/newCIF_hexafluorophosphate/CCDC_1867090.lis',\n",
       " '/home/phu/Documents/matsci/newCIF_hexafluorophosphate/CCDC_1853181.lis',\n",
       " '/home/phu/Documents/matsci/newCIF_hexafluorophosphate/CCDC_1810752.lis',\n",
       " '/home/phu/Documents/matsci/newCIF_hexafluorophosphate/CCDC_1871941.lis',\n",
       " '/home/phu/Documents/matsci/newCIF_hexafluorophosphate/CCDC_1884121.lis',\n",
       " '/home/phu/Documents/matsci/newCIF_hexafluorophosphate/CCDC_1850854.lis',\n",
       " '/home/phu/Documents/matsci/newCIF_hexafluorophosphate/CCDC_1839169.lis',\n",
       " '/home/phu/Documents/matsci/newCIF_hexafluorophosphate/CCDC_1572683.lis',\n",
       " '/home/phu/Documents/matsci/newCIF_hexafluorophosphate/CCDC_1865550.lis',\n",
       " '/home/phu/Documents/matsci/newCIF_hexafluorophosphate/CCDC_1851515.lis',\n",
       " '/home/phu/Documents/matsci/newCIF_hexafluorophosphate/CCDC_1840375.lis',\n",
       " '/home/phu/Documents/matsci/newCIF_hexafluorophosphate/CCDC_1865562.lis',\n",
       " '/home/phu/Documents/matsci/newCIF_hexafluorophosphate/CCDC_1852914.lis',\n",
       " '/home/phu/Documents/matsci/newCIF_hexafluorophosphate/CCDC_1546582.lis',\n",
       " '/home/phu/Documents/matsci/newCIF_hexafluorophosphate/CCDC_1589284.lis',\n",
       " '/home/phu/Documents/matsci/newCIF_hexafluorophosphate/CCDC_1856425.lis',\n",
       " '/home/phu/Documents/matsci/newCIF_hexafluorophosphate/CCDC_1858417.lis',\n",
       " '/home/phu/Documents/matsci/newCIF_hexafluorophosphate/CCDC_1819248.lis',\n",
       " '/home/phu/Documents/matsci/newCIF_hexafluorophosphate/CCDC_1585090.lis',\n",
       " '/home/phu/Documents/matsci/newCIF_hexafluorophosphate/CCDC_1857266.lis',\n",
       " '/home/phu/Documents/matsci/newCIF_hexafluorophosphate/CCDC_1867522.lis',\n",
       " '/home/phu/Documents/matsci/newCIF_hexafluorophosphate/CCDC_1867528.lis',\n",
       " '/home/phu/Documents/matsci/newCIF_hexafluorophosphate/CCDC_1824722.lis',\n",
       " '/home/phu/Documents/matsci/newCIF_hexafluorophosphate/CCDC_1870394.lis',\n",
       " '/home/phu/Documents/matsci/newCIF_hexafluorophosphate/CCDC_1867532.lis',\n",
       " '/home/phu/Documents/matsci/newCIF_hexafluorophosphate/CCDC_1853348.lis',\n",
       " '/home/phu/Documents/matsci/newCIF_hexafluorophosphate/CCDC_1867527.lis',\n",
       " '/home/phu/Documents/matsci/newCIF_hexafluorophosphate/CCDC_1861793.lis']"
      ]
     },
     "execution_count": 7,
     "metadata": {},
     "output_type": "execute_result"
    }
   ],
   "source": [
    "a"
   ]
  },
  {
   "cell_type": "code",
   "execution_count": 8,
   "metadata": {},
   "outputs": [],
   "source": [
    "for f in a:\n",
    "        shutil.move(f, dest)"
   ]
  }
 ],
 "metadata": {
  "kernelspec": {
   "display_name": "Python matsci",
   "language": "python",
   "name": "matsci"
  },
  "language_info": {
   "codemirror_mode": {
    "name": "ipython",
    "version": 3
   },
   "file_extension": ".py",
   "mimetype": "text/x-python",
   "name": "python",
   "nbconvert_exporter": "python",
   "pygments_lexer": "ipython3",
   "version": "3.6.6"
  }
 },
 "nbformat": 4,
 "nbformat_minor": 2
}
