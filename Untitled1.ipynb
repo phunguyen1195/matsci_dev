{
 "cells": [
  {
   "cell_type": "code",
   "execution_count": 126,
   "metadata": {},
   "outputs": [],
   "source": [
    "import subprocess\n",
    "import glob"
   ]
  },
  {
   "cell_type": "code",
   "execution_count": 127,
   "metadata": {},
   "outputs": [],
   "source": [
    "dir = \"/home/phu/Documents/matsci/8thCif/\""
   ]
  },
  {
   "cell_type": "code",
   "execution_count": 128,
   "metadata": {},
   "outputs": [],
   "source": [
    "k = subprocess.run([\"platon -o -c hbond-topology-network-2017SI.cif\"], shell=True, cwd=dir, stdin=subprocess.PIPE,stdout=subprocess.PIPE, stderr=subprocess.PIPE)"
   ]
  },
  {
   "cell_type": "code",
   "execution_count": 129,
   "metadata": {},
   "outputs": [],
   "source": [
    "content = []\n",
    "for filepath in glob.iglob(dir + '*.lis'):\n",
    "    try:\n",
    "        with open(filepath) as f:\n",
    "            content = f.readlines()\n",
    "    except:\n",
    "        print (filepath)\n",
    "        continue"
   ]
  },
  {
   "cell_type": "code",
   "execution_count": 130,
   "metadata": {},
   "outputs": [],
   "source": [
    "find_content_page = \"\"\n",
    "for n in content:\n",
    "    if \"Page - Index\" in n:\n",
    "        find_content_page = n\n",
    "m = content[content.index(find_content_page):]\n",
    "rest_content= content[:content.index(find_content_page)]"
   ]
  },
  {
   "cell_type": "code",
   "execution_count": 131,
   "metadata": {
    "scrolled": false
   },
   "outputs": [],
   "source": [
    "get_pages = []\n",
    "for n in m:\n",
    "    if \"Page\" in n:\n",
    "        get_pages.append(n)"
   ]
  },
  {
   "cell_type": "code",
   "execution_count": 132,
   "metadata": {},
   "outputs": [],
   "source": [
    "pages = []\n",
    "for n in get_pages:\n",
    "    p = n.split()\n",
    "    if p[1].isdigit():\n",
    "        pages.append(n)"
   ]
  },
  {
   "cell_type": "code",
   "execution_count": 133,
   "metadata": {},
   "outputs": [],
   "source": [
    "find_pages_in_rest_content = []\n",
    "for o in pages:\n",
    "    s = \" \" + o.split()[1] + \"\\n\"\n",
    "    for n in rest_content:\n",
    "        if \"Page\" in n and s in n:\n",
    "            find_pages_in_rest_content.append(n)"
   ]
  },
  {
   "cell_type": "code",
   "execution_count": 134,
   "metadata": {},
   "outputs": [],
   "source": [
    "get_content_based_on_pages = []\n",
    "for i in range(0,len(find_pages_in_rest_content)):\n",
    "    try:\n",
    "        t = content[content.index(find_pages_in_rest_content[i]):content.index(find_pages_in_rest_content[i+1])]\n",
    "    except:\n",
    "        t = content[content.index(find_pages_in_rest_content[i]):]\n",
    "    get_content_based_on_pages.append(t)"
   ]
  },
  {
   "cell_type": "code",
   "execution_count": 141,
   "metadata": {},
   "outputs": [
    {
     "data": {
      "text/plain": [
       "12"
      ]
     },
     "execution_count": 141,
     "metadata": {},
     "output_type": "execute_result"
    }
   ],
   "source": [
    "len(get_content_based_on_pages)"
   ]
  },
  {
   "cell_type": "code",
   "execution_count": 154,
   "metadata": {},
   "outputs": [
    {
     "data": {
      "text/plain": [
       "['\\x0c                                                                                            \"wj_b2_0018\"  PLATON-SUMMARY   Page   76\\n',\n",
       " '====================================================================================================================================\\n',\n",
       " '        Table  0 - Crystal Data and Details of the Structure Determination \\n',\n",
       " '                   for: wj_b2_0018_Hg    P -1                   \\n',\n",
       " '\\n',\n",
       " '                                   Crystal Data\\n',\n",
       " '\\n',\n",
       " '        Formula                                                 C12 H11 N7   \\n',\n",
       " '        Formula Weight                                              253.28   \\n',\n",
       " '        Crystal System                                           triclinic   \\n',\n",
       " '        Space group                                  P-1          (No.  2)   \\n',\n",
       " '        a, b, c [Angstrom]            7.4432(15)     9.993(2)    16.648(3)      \\n',\n",
       " '        alpha, beta, gamma [deg]        77.55(2)     87.54(3)     87.09(3)      \\n',\n",
       " '        V [Ang**3]                                               1207.0(4)      \\n',\n",
       " '        Z                                                                4   \\n',\n",
       " '        D(calc) [g/cm**3]                                            1.394   \\n',\n",
       " '        Mu(MoKa) [ /mm ]                                             0.093   \\n',\n",
       " '        F(000)                                                         528   \\n',\n",
       " '        Crystal Size [mm]                             0.00 x  0.00 x  0.00   \\n',\n",
       " '                               Data Collection\\n',\n",
       " '\\n',\n",
       " '        Temperature (K)                                              *****   \\n',\n",
       " '        Radiation [Angstrom]                             MoKa      0.71073   \\n',\n",
       " '        Theta Min-Max [Deg]                                     0.0,   0.0   \\n',\n",
       " '        Dataset                                999:-99 ; 999:-99 ; 999:-99   \\n',\n",
       " '        Tot., Uniq. Data, R(int)                         0,      0,  0.000   \\n',\n",
       " '        Observed Data [I > 0.0 sigma(I)]                                 0   \\n',\n",
       " '                                  Refinement\\n',\n",
       " '\\n',\n",
       " '        Nref, Npar                                                 0,    0   \\n',\n",
       " '        R, wR2, S                                     0.0000, 0.0000, 0.00   \\n',\n",
       " '        w =                                                                  \\n',\n",
       " '        Max. and Av. Shift/Error                                0.00, 0.00   \\n',\n",
       " '        Min. and Max. Resd. Dens. [e/Ang^3]                     0.00, 0.00\\n',\n",
       " '\\x0c                                                                                            \"wj_b2_0018\"  PLATON-SUMMARY   Page   77\\n',\n",
       " '====================================================================================================================================\\n',\n",
       " '\\n',\n",
       " '\\n',\n",
       " '                                                          ===========\\n',\n",
       " '********************************************************* N O T I C E **************************************************\\n',\n",
       " '                                                          ===========\\n',\n",
       " '\\n',\n",
       " '- PLATON Reference : Spek, A.L. (2003). J. Appl. Cryst. 36, 7-13.\\n',\n",
       " '                     Spek, A.L. (2009). Acta Cryst. D65, 148-155.\\n',\n",
       " '                     Spek, A.L. (2015). Acta Cryst. C71, 9-18.\\n',\n",
       " '\\n',\n",
       " '- Output Values (Esd) may have  been set to 99, 999 or 9999 to Avoid Format Overflow\\n',\n",
       " '\\n',\n",
       " \"- Derived Parameter SU's (= Esd's) may be Incorrect in Cases where Covariances in the Atom Parameters should have been taken\\n\",\n",
       " '  into Account (e.g. Those Involving Atoms That were Refined with Constraints)\\n',\n",
       " '\\n',\n",
       " '- ROUNDING, in particular of the Input Coordinate Data, may give deviating values for derived geometry parameters.\\n',\n",
       " '  However, differences should be within the associated esd-range.\\n',\n",
       " '\\n',\n",
       " '- PLATON is NOT a Finished Program. The Implementation of Additional Options is Planned. Some of the More Advanced\\n',\n",
       " '  Features are Experimental and may Contain Loose Ends.\\n',\n",
       " '\\n',\n",
       " '- The Communication of Glitches Encountered will be Appreciated: E-mail: a.l.spek@uu.nl\\n',\n",
       " '\\n',\n",
       " '- Recent versions of PLATON may be obtained from http://www.platonsoft.nl/xraysoft\\n',\n",
       " '\\n',\n",
       " '- More INFO can be found on http://http://www.platonsoft.nl/               \\n',\n",
       " '\\n',\n",
       " '\\n',\n",
       " '\\x0c                                                                                            \"wj_b2_0018\"  PLATON-SUMMARY   Page   78\\n',\n",
       " '====================================================================================================================================\\n',\n",
       " 'Page - Index\\n',\n",
       " '================================================================================\\n',\n",
       " '\\n',\n",
       " 'Page   1 --- GENERAL \\n',\n",
       " 'Page   2 --- ADDSYM  \\n',\n",
       " 'Page   3 --- GEOMETRY\\n',\n",
       " 'Page   7 --- MOLSYM  \\n',\n",
       " 'Page   9 --- NONSYM  \\n',\n",
       " 'Page  11 --- GEOMETRY\\n',\n",
       " 'Page  39 --- INTER   \\n',\n",
       " 'Page  48 --- H-BONDS \\n',\n",
       " 'Page  57 --- COORDN  \\n',\n",
       " 'Page  73 --- VOIDS   \\n',\n",
       " 'Page  74 --- CHECKCIF\\n',\n",
       " 'Page  76 --- SUMMARY \\n',\n",
       " '\\n',\n",
       " '\\n',\n",
       " '\\n',\n",
       " 'Summary and Remarks : N = NOTE, W = WARNING, E = ERROR\\n',\n",
       " '================================================================================\\n',\n",
       " '\\n',\n",
       " 'W: NOMOVE option used.\\n',\n",
       " \":: >>> WARNING: 'CONNECTED INPUT SET' is assumed to be TRUE\\n\",\n",
       " ':: >>> The Network Analysis may be INCORRECT when this  assumption is FALSE\\n',\n",
       " '--------------------------------------------------------------------------------\\n',\n",
       " 'W: Structure contains  1 Intra H..H contacts < Sum(vdW-rad) -0.25 A (max -0.29)\\n',\n",
       " 'N: Number of Isotropic Non-H Atoms .......................................   38\\n',\n",
       " 'N: Number of Unspecified Non-H Displacement Parameters set to U = 0.05 ...   38\\n',\n",
       " 'N: Number of Unspecified     H Displacement Parameters set to U = 0.05 ...   22\\n',\n",
       " 'N: Number of modified (= # ) ATOM labels .................................   26\\n',\n",
       " 'N: Total Potential Solvent Accessible Void Vol  (SOLV-Map Value) ...    30 Ang^3\\n',\n",
       " '\\n',\n",
       " '================================================================================\\n',\n",
       " '\\n',\n",
       " '\\n',\n",
       " ':: Input Xtal Data from File hbond-topology-network-2017SI.cif - Data Type CIF  \\n',\n",
       " '\\n',\n",
       " ':: NORMAL END of PLATON :    78 Pages on FILE hbond-topology-network-2017SI.lis\\n',\n",
       " ':: SPF File spf on :hbond-topology-network-2017SI_pl.spf\\n']"
      ]
     },
     "execution_count": 154,
     "metadata": {},
     "output_type": "execute_result"
    }
   ],
   "source": [
    "get_content_based_on_pages[11]"
   ]
  },
  {
   "cell_type": "code",
   "execution_count": 136,
   "metadata": {},
   "outputs": [],
   "source": [
    "f= open(\"/home/phu/Documents/matsci/8thCif/GENERAL/\"+ \"hbond-topology-network-2017SI\" + \".lis\",\"w+\")\n",
    "for item in get_content_based_on_pages[0]:\n",
    "    f.write(item)\n",
    "f.close()"
   ]
  },
  {
   "cell_type": "code",
   "execution_count": 137,
   "metadata": {},
   "outputs": [],
   "source": [
    "f= open(\"/home/phu/Documents/matsci/8thCif/ADDSYM/\"+ \"hbond-topology-network-2017SI\" + \".lis\",\"w+\")\n",
    "for item in get_content_based_on_pages[1]:\n",
    "    f.write(item)\n",
    "f.close()"
   ]
  },
  {
   "cell_type": "code",
   "execution_count": 145,
   "metadata": {},
   "outputs": [],
   "source": [
    "f= open(\"/home/phu/Documents/matsci/8thCif/GEOMETRY/\"+ \"hbond-topology-network-2017SI\" + \".lis\",\"w+\")\n",
    "for item in get_content_based_on_pages[2]:\n",
    "    f.write(item)\n",
    "f.close()"
   ]
  },
  {
   "cell_type": "code",
   "execution_count": 144,
   "metadata": {},
   "outputs": [],
   "source": [
    "f= open(\"/home/phu/Documents/matsci/8thCif/MOLSYM/\"+ \"hbond-topology-network-2017SI\" + \".lis\",\"w+\")\n",
    "for item in get_content_based_on_pages[3]:\n",
    "    f.write(item)\n",
    "f.close()"
   ]
  },
  {
   "cell_type": "code",
   "execution_count": 143,
   "metadata": {},
   "outputs": [],
   "source": [
    "f= open(\"/home/phu/Documents/matsci/8thCif/NONSYM/\"+ \"hbond-topology-network-2017SI\" + \".lis\",\"w+\")\n",
    "for item in get_content_based_on_pages[4]:\n",
    "    f.write(item)\n",
    "f.close()"
   ]
  },
  {
   "cell_type": "code",
   "execution_count": 146,
   "metadata": {},
   "outputs": [],
   "source": [
    "f= open(\"/home/phu/Documents/matsci/8thCif/GEOMETRY_1/\"+ \"hbond-topology-network-2017SI\" + \".lis\",\"w+\")\n",
    "for item in get_content_based_on_pages[5]:\n",
    "    f.write(item)\n",
    "f.close()"
   ]
  },
  {
   "cell_type": "code",
   "execution_count": 147,
   "metadata": {},
   "outputs": [],
   "source": [
    "f= open(\"/home/phu/Documents/matsci/8thCif/INTER/\"+ \"hbond-topology-network-2017SI\" + \".lis\",\"w+\")\n",
    "for item in get_content_based_on_pages[6]:\n",
    "    f.write(item)\n",
    "f.close()"
   ]
  },
  {
   "cell_type": "code",
   "execution_count": 149,
   "metadata": {},
   "outputs": [],
   "source": [
    "f= open(\"/home/phu/Documents/matsci/8thCif/H-BONDS/\"+ \"hbond-topology-network-2017SI\" + \".lis\",\"w+\")\n",
    "for item in get_content_based_on_pages[7]:\n",
    "    f.write(item)\n",
    "f.close()"
   ]
  },
  {
   "cell_type": "code",
   "execution_count": 150,
   "metadata": {},
   "outputs": [],
   "source": [
    "f= open(\"/home/phu/Documents/matsci/8thCif/COORDN/\"+ \"hbond-topology-network-2017SI\" + \".lis\",\"w+\")\n",
    "for item in get_content_based_on_pages[8]:\n",
    "    f.write(item)\n",
    "f.close()"
   ]
  },
  {
   "cell_type": "code",
   "execution_count": 151,
   "metadata": {},
   "outputs": [],
   "source": [
    "f= open(\"/home/phu/Documents/matsci/8thCif/VOIDS/\"+ \"hbond-topology-network-2017SI\" + \".lis\",\"w+\")\n",
    "for item in get_content_based_on_pages[9]:\n",
    "    f.write(item)\n",
    "f.close()"
   ]
  },
  {
   "cell_type": "code",
   "execution_count": 153,
   "metadata": {},
   "outputs": [],
   "source": [
    "f= open(\"/home/phu/Documents/matsci/8thCif/CHECKCIF/\"+ \"hbond-topology-network-2017SI\" + \".lis\",\"w+\")\n",
    "for item in get_content_based_on_pages[10]:\n",
    "    f.write(item)\n",
    "f.close()"
   ]
  }
 ],
 "metadata": {
  "kernelspec": {
   "display_name": "Python matsci",
   "language": "python",
   "name": "matsci"
  },
  "language_info": {
   "codemirror_mode": {
    "name": "ipython",
    "version": 3
   },
   "file_extension": ".py",
   "mimetype": "text/x-python",
   "name": "python",
   "nbconvert_exporter": "python",
   "pygments_lexer": "ipython3",
   "version": "3.6.6"
  }
 },
 "nbformat": 4,
 "nbformat_minor": 2
}
