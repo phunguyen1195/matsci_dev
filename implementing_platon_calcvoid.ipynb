{
 "cells": [
  {
   "cell_type": "code",
   "execution_count": 1,
   "metadata": {},
   "outputs": [],
   "source": [
    "import subprocess\n",
    "import glob"
   ]
  },
  {
   "cell_type": "code",
   "execution_count": 2,
   "metadata": {},
   "outputs": [],
   "source": [
    "dir = \"/home/phu/Documents/matsci/9thCif/\""
   ]
  },
  {
   "cell_type": "code",
   "execution_count": 3,
   "metadata": {},
   "outputs": [],
   "source": [
    "k = subprocess.run([\"platon -o -K hbond-topology-network-2017SI.cif\"], shell=True, cwd=dir, stdin=subprocess.PIPE,stdout=subprocess.PIPE, stderr=subprocess.PIPE)"
   ]
  },
  {
   "cell_type": "code",
   "execution_count": 4,
   "metadata": {},
   "outputs": [],
   "source": [
    "content = []\n",
    "for filepath in glob.iglob(dir + '*.lis'):\n",
    "    try:\n",
    "        with open(filepath) as f:\n",
    "            content = f.readlines()\n",
    "    except:\n",
    "        print (filepath)\n",
    "        continue"
   ]
  },
  {
   "cell_type": "code",
   "execution_count": 6,
   "metadata": {},
   "outputs": [],
   "source": [
    "find_content_page = \"\"\n",
    "for n in content:\n",
    "    if \"Page - Index\" in n:\n",
    "        find_content_page = n\n",
    "m = content[content.index(find_content_page):]\n",
    "rest_content= content[:content.index(find_content_page)]"
   ]
  },
  {
   "cell_type": "code",
   "execution_count": 8,
   "metadata": {},
   "outputs": [],
   "source": [
    "get_pages = []\n",
    "for n in m:\n",
    "    if \"Page\" in n:\n",
    "        get_pages.append(n)"
   ]
  },
  {
   "cell_type": "code",
   "execution_count": 10,
   "metadata": {},
   "outputs": [],
   "source": [
    "pages = []\n",
    "for n in get_pages:\n",
    "    p = n.split()\n",
    "    if p[1].isdigit():\n",
    "        pages.append(n)"
   ]
  },
  {
   "cell_type": "code",
   "execution_count": 12,
   "metadata": {},
   "outputs": [],
   "source": [
    "find_pages_in_rest_content = []\n",
    "for o in pages:\n",
    "    s = \" \" + o.split()[1] + \"\\n\"\n",
    "    for n in rest_content:\n",
    "        if \"Page\" in n and s in n:\n",
    "            find_pages_in_rest_content.append(n)"
   ]
  },
  {
   "cell_type": "code",
   "execution_count": 13,
   "metadata": {},
   "outputs": [
    {
     "data": {
      "text/plain": [
       "['\\x0c                                                                                            \"wj_b2_0018\"  PLATON-GENERAL   Page    1\\n',\n",
       " '\\x0c                                                                                            \"wj_b2_0018\"  PLATON-GEOMETRY  Page    2\\n',\n",
       " '\\x0c                                                                                            \"wj_b2_0018\"  PLATON-VOIDS     Page    6\\n',\n",
       " '\\x0c                                                                                            \"wj_b2_0018\"  PLATON-SUMMARY   Page    8\\n']"
      ]
     },
     "execution_count": 13,
     "metadata": {},
     "output_type": "execute_result"
    }
   ],
   "source": [
    "find_pages_in_rest_content"
   ]
  },
  {
   "cell_type": "code",
   "execution_count": 14,
   "metadata": {},
   "outputs": [],
   "source": [
    "get_content_based_on_pages = []\n",
    "for i in range(0,len(find_pages_in_rest_content)):\n",
    "    try:\n",
    "        t = content[content.index(find_pages_in_rest_content[i]):content.index(find_pages_in_rest_content[i+1])]\n",
    "    except:\n",
    "        t = content[content.index(find_pages_in_rest_content[i]):]\n",
    "    get_content_based_on_pages.append(t)"
   ]
  },
  {
   "cell_type": "code",
   "execution_count": 16,
   "metadata": {},
   "outputs": [
    {
     "data": {
      "text/plain": [
       "4"
      ]
     },
     "execution_count": 16,
     "metadata": {},
     "output_type": "execute_result"
    }
   ],
   "source": [
    "len(get_content_based_on_pages)"
   ]
  },
  {
   "cell_type": "code",
   "execution_count": 18,
   "metadata": {},
   "outputs": [],
   "source": [
    "find_void = \"PLATON-VOIDS\"\n",
    "void_data = []\n",
    "for i in range(0,len(find_pages_in_rest_content)):\n",
    "    if find_void in find_pages_in_rest_content[i]:\n",
    "        void_data = content[content.index(find_pages_in_rest_content[i]):content.index(find_pages_in_rest_content[i+1])]\n",
    "        break"
   ]
  },
  {
   "cell_type": "code",
   "execution_count": 19,
   "metadata": {},
   "outputs": [
    {
     "data": {
      "text/plain": [
       "['\\x0c                                                                                            \"wj_b2_0018\"  PLATON-VOIDS     Page    6\\n',\n",
       " '====================================================================================================================================\\n',\n",
       " \"Search for and Analysis of Solvent Accessible Voids in 'P1' Structure - Grid = 0.20 Ang., Probe Radius =  1.20 Ang., NStep = 6      \\n\",\n",
       " '====================================================================================================================================\\n',\n",
       " '\\n',\n",
       " 'van der Waals (or ion) Radii used in the Analysis\\n',\n",
       " '================================================================================\\n',\n",
       " '    C    H    N\\n',\n",
       " '--------------------------------------------------------------------------------\\n',\n",
       " ' 1.70 1.20 1.55\\n',\n",
       " '\\n',\n",
       " ':: Grid: X-Axis Step = 0.0278 = Points  36, Angstrom Step = 0.21\\n',\n",
       " ':: Grid: Y-Axis Step = 0.0208 = Points  48, Angstrom Step = 0.21\\n',\n",
       " ':: Grid: Z-Axis Step = 0.0119 = Points  84, Angstrom Step = 0.20\\n',\n",
       " '\\n',\n",
       " '\\n',\n",
       " '\\n',\n",
       " ':: Nr of VOID Grid-points =      93, Percent Filled Space 68.0 (= Packing Index)\\n',\n",
       " '\\n',\n",
       " '(See A.I. Kitajgorodskij, Molecular Crystals and Molecules, New-York, Academic Press, 1973.)\\n',\n",
       " '\\n',\n",
       " ':: Total Potential Solvent Area Vol     29.7 Ang^3\\n',\n",
       " '                  per Unit Cell Vol   1207.0 Ang^3 [ 2.5%]\\n',\n",
       " '\\n',\n",
       " 'Note: Expected volumes for solvent molecules are:\\n',\n",
       " '      A hydrogen bonded H2O-molecule      40 Ang^3\\n',\n",
       " '      Small molecules (e.g. Toluene) 100-300 Ang^3\\n',\n",
       " '\\n',\n",
       " '      Values below for gridpoints and volumes in [] \\n',\n",
       " '      refer to areas where atom centers may reside.\\n',\n",
       " '\\n',\n",
       " ':: Use the CALC SQUEEZE instruction to calculate and optionally correct for\\n',\n",
       " ':: Density identified in solvent accessible areas (Reflection data required)\\n',\n",
       " '\\n',\n",
       " 'Area #GridPoint VolPerc.  Vol(A^3)  X(av) Y(av) Z(av) Eigenvector(frac) Sig(Ang)\\n',\n",
       " '--------------------------------------------------------------------------------\\n',\n",
       " ' 1   3569[    93]  2    30[   0.8]  0.500 0.500 0.500 1  1.000 0.199-0.082  1.23\\n',\n",
       " '                                                      2  0.299-0.309 1.000  0.80\\n',\n",
       " '                                                      3  0.371-1.000-0.006  0.65\\n',\n",
       " '\\n',\n",
       " '       x     y     z              Shortest Contacts within 4.5 Ang. (Excl. H)                                                       \\n',\n",
       " '================================================================================\\n',\n",
       " '  1  0.500 0.500 0.500            C4AB 3.14; C4B  3.14; N4B  3.31; N5B  3.32; C5PA 3.52; N3B  3.77; C8AB 3.84; C4PA 3.91; C6B  4.10; \\n',\n",
       " ' \\n',\n",
       " '     Report the Distance from VOID-CG to Boundary in EV-Directions\\n',\n",
       " '\\n',\n",
       " ' Nr MinEV1 MaxEV1 MinEV2 MaxEV2 MinEV3 MaxEV3 MaxDist (Ang)\\n',\n",
       " '================================================================================\\n',\n",
       " '\\x0c                                                                                            \"wj_b2_0018\"  PLATON-VOIDS     Page    7\\n',\n",
       " '====================================================================================================================================\\n']"
      ]
     },
     "execution_count": 19,
     "metadata": {},
     "output_type": "execute_result"
    }
   ],
   "source": [
    "void_data"
   ]
  },
  {
   "cell_type": "code",
   "execution_count": 38,
   "metadata": {},
   "outputs": [],
   "source": [
    "filled_space = 'Percent Filled Space'\n",
    "k = []\n",
    "Packing_Index = 0\n",
    "for i in void_data:\n",
    "    if filled_space in i:\n",
    "        k = i.split()\n",
    "        \n",
    "for j in range(0,len(k)):\n",
    "    if k[j] == 'Space':\n",
    "        try:\n",
    "            Packing_Index = float(k[j+1])\n",
    "        except ValueError:\n",
    "            print (\"Not a float\")\n",
    "        "
   ]
  },
  {
   "cell_type": "code",
   "execution_count": 39,
   "metadata": {},
   "outputs": [
    {
     "data": {
      "text/plain": [
       "68.0"
      ]
     },
     "execution_count": 39,
     "metadata": {},
     "output_type": "execute_result"
    }
   ],
   "source": [
    "Packing_Index"
   ]
  }
 ],
 "metadata": {
  "kernelspec": {
   "display_name": "Python matsci",
   "language": "python",
   "name": "matsci"
  },
  "language_info": {
   "codemirror_mode": {
    "name": "ipython",
    "version": 3
   },
   "file_extension": ".py",
   "mimetype": "text/x-python",
   "name": "python",
   "nbconvert_exporter": "python",
   "pygments_lexer": "ipython3",
   "version": "3.6.6"
  }
 },
 "nbformat": 4,
 "nbformat_minor": 2
}
